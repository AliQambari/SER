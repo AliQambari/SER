{
 "cells": [
  {
   "cell_type": "code",
   "execution_count": 1,
   "metadata": {
    "id": "f9fZkaATGtB0"
   },
   "outputs": [],
   "source": [
    "import librosa\n",
    "import os\n",
    "import pandas as pd\n",
    "import glob\n",
    "import numpy as np\n",
    "import soundfile\n",
    "from sklearn.model_selection import train_test_split"
   ]
  },
  {
   "cell_type": "code",
   "execution_count": 8,
   "metadata": {},
   "outputs": [],
   "source": [
    "result=np.array([])\n",
    "aud = \"D:/AAA_video_course/Programming/dataset/Actor_05/03-01-01-01-01-02-05.wav\"\n",
    "aud,sr = librosa.load(aud)\n",
    "mfccs1=np.mean(librosa.feature.mfcc(y=aud, sr=sr, n_mfcc=40).T,axis=0)\n",
    "result=np.hstack((result, mfccs1))\n",
    "\n",
    "aud2 = \"D:/AAA_video_course/Programming/dataset/Actor_05/03-01-02-01-01-02-05.wav\"\n",
    "aud2,sr = librosa.load(aud2)\n",
    "mfccs2=np.mean(librosa.feature.mfcc(y=aud2, sr=sr, n_mfcc=40).T,axis=0)\n",
    "result=np.hstack((result, mfccs2))\n"
   ]
  },
  {
   "cell_type": "code",
   "execution_count": 6,
   "metadata": {},
   "outputs": [
    {
     "data": {
      "text/plain": [
       "(80,)"
      ]
     },
     "execution_count": 6,
     "metadata": {},
     "output_type": "execute_result"
    }
   ],
   "source": [
    "result.shape"
   ]
  },
  {
   "cell_type": "code",
   "execution_count": 92,
   "metadata": {
    "id": "I3cfrMGLHX_N"
   },
   "outputs": [],
   "source": [
    "def extract_feature(file_name,mfcc,chroma,mel,zcr,rmse):\n",
    "    with soundfile.SoundFile(file_name) as sound_file:\n",
    "        X = sound_file.read(dtype=\"float32\")\n",
    "        sample_rate=sound_file.samplerate\n",
    "        stft=np.abs(librosa.stft(X))\n",
    "        result=np.array([])\n",
    "        \n",
    "        if mfcc:\n",
    "            mfccs=np.mean(librosa.feature.mfcc(y=X, sr=sample_rate, n_mfcc=40).T,axis=0)\n",
    "       \n",
    "            result=np.hstack((result, mfccs))\n",
    "        \n",
    "        if chroma:\n",
    "            chroma=np.mean(librosa.feature.chroma_stft(S=stft, sr=sample_rate).T,axis=0)\n",
    "            result=np.hstack((result, chroma))\n",
    "        if mel:\n",
    "            mel=np.mean(librosa.feature.melspectrogram(y=X, sr=sample_rate).T,axis=0)\n",
    "            result=np.hstack((result, mel))\n",
    "        if zcr:\n",
    "            zcr=np.mean(librosa.feature.zero_crossing_rate(y=X, frame_length=2048, hop_length=512).T,axis=0)\n",
    "            result=np.hstack((result, zcr))\n",
    "        if rmse:\n",
    "            rmse=np.mean(librosa.feature.rms(S=stft,frame_length=2048, hop_length=512, pad_mode='reflect').T,axis=0)\n",
    "            result=np.hstack((result, rmse))\n",
    "    return result"
   ]
  },
  {
   "cell_type": "code",
   "execution_count": 93,
   "metadata": {
    "id": "tYiFM5gyHhr0"
   },
   "outputs": [],
   "source": [
    "emotions={\n",
    "  '01':'neutral',\n",
    "  '02':'calm',\n",
    "  '03':'happy',\n",
    "  '04':'sad',\n",
    "  '05':'angry',\n",
    "  '06':'fearful',\n",
    "  '07':'disgust',\n",
    "  '08':'surprised'\n",
    "}\n",
    "\n",
    "#Emotions to observe\n",
    "observed_emotions=['calm', 'happy', 'fearful', 'disgust','neutral','surprised','sad','angry']"
   ]
  },
  {
   "cell_type": "code",
   "execution_count": 109,
   "metadata": {},
   "outputs": [],
   "source": [
    "#Load the data and extract features for each sound file\n",
    "def load_data(test_size = 0.2):\n",
    "  x, y = [], []\n",
    "  for folder in glob.glob('D:/AAA_video_course/Programming/dataset/Actor_*'):\n",
    "    print(folder)\n",
    "    for file in glob.glob(folder + '/*.wav'):\n",
    "      file_name = os.path.basename(file)\n",
    "      emotion = emotions[file_name.split('-')[2]]\n",
    "      if emotion not in observed_emotions:\n",
    "        continue\n",
    "      feature = extract_feature(file, mfcc = True, chroma = True, mel = True,zcr = True, rmse = True)\n",
    "      x.append(feature)\n",
    "      y.append(emotion)\n",
    "  return train_test_split(np.array(x), y, test_size = test_size, random_state = 9)"
   ]
  },
  {
   "cell_type": "code",
   "execution_count": 110,
   "metadata": {},
   "outputs": [
    {
     "data": {
      "text/plain": [
       "'0.9.1'"
      ]
     },
     "execution_count": 110,
     "metadata": {},
     "output_type": "execute_result"
    }
   ],
   "source": [
    "import librosa\n",
    "librosa.__version__"
   ]
  },
  {
   "cell_type": "code",
   "execution_count": 111,
   "metadata": {
    "scrolled": true
   },
   "outputs": [
    {
     "name": "stdout",
     "output_type": "stream",
     "text": [
      "D:/AAA_video_course/Programming/dataset\\Actor_02\n",
      "D:/AAA_video_course/Programming/dataset\\Actor_03\n",
      "D:/AAA_video_course/Programming/dataset\\Actor_04\n",
      "D:/AAA_video_course/Programming/dataset\\Actor_06\n",
      "D:/AAA_video_course/Programming/dataset\\Actor_07\n",
      "D:/AAA_video_course/Programming/dataset\\Actor_08\n",
      "D:/AAA_video_course/Programming/dataset\\Actor_09\n",
      "D:/AAA_video_course/Programming/dataset\\Actor_10\n",
      "D:/AAA_video_course/Programming/dataset\\Actor_11\n",
      "D:/AAA_video_course/Programming/dataset\\Actor_12\n",
      "D:/AAA_video_course/Programming/dataset\\Actor_13\n",
      "D:/AAA_video_course/Programming/dataset\\Actor_14\n",
      "D:/AAA_video_course/Programming/dataset\\Actor_15\n",
      "D:/AAA_video_course/Programming/dataset\\Actor_16\n",
      "D:/AAA_video_course/Programming/dataset\\Actor_17\n",
      "D:/AAA_video_course/Programming/dataset\\Actor_18\n",
      "D:/AAA_video_course/Programming/dataset\\Actor_19\n",
      "D:/AAA_video_course/Programming/dataset\\Actor_21\n",
      "D:/AAA_video_course/Programming/dataset\\Actor_22\n",
      "D:/AAA_video_course/Programming/dataset\\Actor_23\n",
      "D:/AAA_video_course/Programming/dataset\\Actor_24\n"
     ]
    },
    {
     "data": {
      "text/plain": [
       "((1008, 182), (252, 182))"
      ]
     },
     "execution_count": 111,
     "metadata": {},
     "output_type": "execute_result"
    }
   ],
   "source": [
    "x_train,x_test,y_train,y_test=load_data(test_size=0.2)\n",
    "x_train.shape,x_test.shape"
   ]
  },
  {
   "cell_type": "code",
   "execution_count": 112,
   "metadata": {},
   "outputs": [
    {
     "data": {
      "text/plain": [
       "'1.23.0'"
      ]
     },
     "execution_count": 112,
     "metadata": {},
     "output_type": "execute_result"
    }
   ],
   "source": [
    "import numpy\n",
    "numpy.__version__"
   ]
  },
  {
   "cell_type": "code",
   "execution_count": 113,
   "metadata": {},
   "outputs": [],
   "source": [
    "def labels():\n",
    "    y=[];\n",
    "    for file in glob.glob(\"D:/AAA_video_course/Programming/dataset/Actor_02/*.wav\"):\n",
    "        file_name=os.path.basename(file)\n",
    "        emotion=emotions[file_name.split(\"-\")[2]]\n",
    "        if emotion not in observed_emotions:\n",
    "            continue\n",
    "        y.append(emotion)\n",
    "    return y"
   ]
  },
  {
   "cell_type": "code",
   "execution_count": 114,
   "metadata": {},
   "outputs": [
    {
     "data": {
      "text/html": [
       "<div>\n",
       "<style scoped>\n",
       "    .dataframe tbody tr th:only-of-type {\n",
       "        vertical-align: middle;\n",
       "    }\n",
       "\n",
       "    .dataframe tbody tr th {\n",
       "        vertical-align: top;\n",
       "    }\n",
       "\n",
       "    .dataframe thead th {\n",
       "        text-align: right;\n",
       "    }\n",
       "</style>\n",
       "<table border=\"1\" class=\"dataframe\">\n",
       "  <thead>\n",
       "    <tr style=\"text-align: right;\">\n",
       "      <th></th>\n",
       "      <th>emo</th>\n",
       "    </tr>\n",
       "  </thead>\n",
       "  <tbody>\n",
       "    <tr>\n",
       "      <th>0</th>\n",
       "      <td>neutral</td>\n",
       "    </tr>\n",
       "    <tr>\n",
       "      <th>1</th>\n",
       "      <td>neutral</td>\n",
       "    </tr>\n",
       "    <tr>\n",
       "      <th>2</th>\n",
       "      <td>neutral</td>\n",
       "    </tr>\n",
       "    <tr>\n",
       "      <th>3</th>\n",
       "      <td>neutral</td>\n",
       "    </tr>\n",
       "    <tr>\n",
       "      <th>4</th>\n",
       "      <td>calm</td>\n",
       "    </tr>\n",
       "    <tr>\n",
       "      <th>5</th>\n",
       "      <td>calm</td>\n",
       "    </tr>\n",
       "    <tr>\n",
       "      <th>6</th>\n",
       "      <td>calm</td>\n",
       "    </tr>\n",
       "    <tr>\n",
       "      <th>7</th>\n",
       "      <td>calm</td>\n",
       "    </tr>\n",
       "    <tr>\n",
       "      <th>8</th>\n",
       "      <td>calm</td>\n",
       "    </tr>\n",
       "    <tr>\n",
       "      <th>9</th>\n",
       "      <td>calm</td>\n",
       "    </tr>\n",
       "    <tr>\n",
       "      <th>10</th>\n",
       "      <td>calm</td>\n",
       "    </tr>\n",
       "    <tr>\n",
       "      <th>11</th>\n",
       "      <td>calm</td>\n",
       "    </tr>\n",
       "    <tr>\n",
       "      <th>12</th>\n",
       "      <td>happy</td>\n",
       "    </tr>\n",
       "    <tr>\n",
       "      <th>13</th>\n",
       "      <td>happy</td>\n",
       "    </tr>\n",
       "    <tr>\n",
       "      <th>14</th>\n",
       "      <td>happy</td>\n",
       "    </tr>\n",
       "    <tr>\n",
       "      <th>15</th>\n",
       "      <td>happy</td>\n",
       "    </tr>\n",
       "    <tr>\n",
       "      <th>16</th>\n",
       "      <td>happy</td>\n",
       "    </tr>\n",
       "    <tr>\n",
       "      <th>17</th>\n",
       "      <td>happy</td>\n",
       "    </tr>\n",
       "    <tr>\n",
       "      <th>18</th>\n",
       "      <td>happy</td>\n",
       "    </tr>\n",
       "    <tr>\n",
       "      <th>19</th>\n",
       "      <td>happy</td>\n",
       "    </tr>\n",
       "    <tr>\n",
       "      <th>20</th>\n",
       "      <td>sad</td>\n",
       "    </tr>\n",
       "    <tr>\n",
       "      <th>21</th>\n",
       "      <td>sad</td>\n",
       "    </tr>\n",
       "    <tr>\n",
       "      <th>22</th>\n",
       "      <td>sad</td>\n",
       "    </tr>\n",
       "    <tr>\n",
       "      <th>23</th>\n",
       "      <td>sad</td>\n",
       "    </tr>\n",
       "    <tr>\n",
       "      <th>24</th>\n",
       "      <td>sad</td>\n",
       "    </tr>\n",
       "    <tr>\n",
       "      <th>25</th>\n",
       "      <td>sad</td>\n",
       "    </tr>\n",
       "    <tr>\n",
       "      <th>26</th>\n",
       "      <td>sad</td>\n",
       "    </tr>\n",
       "    <tr>\n",
       "      <th>27</th>\n",
       "      <td>sad</td>\n",
       "    </tr>\n",
       "    <tr>\n",
       "      <th>28</th>\n",
       "      <td>angry</td>\n",
       "    </tr>\n",
       "    <tr>\n",
       "      <th>29</th>\n",
       "      <td>angry</td>\n",
       "    </tr>\n",
       "    <tr>\n",
       "      <th>30</th>\n",
       "      <td>angry</td>\n",
       "    </tr>\n",
       "    <tr>\n",
       "      <th>31</th>\n",
       "      <td>angry</td>\n",
       "    </tr>\n",
       "    <tr>\n",
       "      <th>32</th>\n",
       "      <td>angry</td>\n",
       "    </tr>\n",
       "    <tr>\n",
       "      <th>33</th>\n",
       "      <td>angry</td>\n",
       "    </tr>\n",
       "    <tr>\n",
       "      <th>34</th>\n",
       "      <td>angry</td>\n",
       "    </tr>\n",
       "    <tr>\n",
       "      <th>35</th>\n",
       "      <td>angry</td>\n",
       "    </tr>\n",
       "    <tr>\n",
       "      <th>36</th>\n",
       "      <td>fearful</td>\n",
       "    </tr>\n",
       "    <tr>\n",
       "      <th>37</th>\n",
       "      <td>fearful</td>\n",
       "    </tr>\n",
       "    <tr>\n",
       "      <th>38</th>\n",
       "      <td>fearful</td>\n",
       "    </tr>\n",
       "    <tr>\n",
       "      <th>39</th>\n",
       "      <td>fearful</td>\n",
       "    </tr>\n",
       "    <tr>\n",
       "      <th>40</th>\n",
       "      <td>fearful</td>\n",
       "    </tr>\n",
       "    <tr>\n",
       "      <th>41</th>\n",
       "      <td>fearful</td>\n",
       "    </tr>\n",
       "    <tr>\n",
       "      <th>42</th>\n",
       "      <td>fearful</td>\n",
       "    </tr>\n",
       "    <tr>\n",
       "      <th>43</th>\n",
       "      <td>fearful</td>\n",
       "    </tr>\n",
       "    <tr>\n",
       "      <th>44</th>\n",
       "      <td>disgust</td>\n",
       "    </tr>\n",
       "    <tr>\n",
       "      <th>45</th>\n",
       "      <td>disgust</td>\n",
       "    </tr>\n",
       "    <tr>\n",
       "      <th>46</th>\n",
       "      <td>disgust</td>\n",
       "    </tr>\n",
       "    <tr>\n",
       "      <th>47</th>\n",
       "      <td>disgust</td>\n",
       "    </tr>\n",
       "    <tr>\n",
       "      <th>48</th>\n",
       "      <td>disgust</td>\n",
       "    </tr>\n",
       "    <tr>\n",
       "      <th>49</th>\n",
       "      <td>disgust</td>\n",
       "    </tr>\n",
       "    <tr>\n",
       "      <th>50</th>\n",
       "      <td>disgust</td>\n",
       "    </tr>\n",
       "    <tr>\n",
       "      <th>51</th>\n",
       "      <td>disgust</td>\n",
       "    </tr>\n",
       "    <tr>\n",
       "      <th>52</th>\n",
       "      <td>surprised</td>\n",
       "    </tr>\n",
       "    <tr>\n",
       "      <th>53</th>\n",
       "      <td>surprised</td>\n",
       "    </tr>\n",
       "    <tr>\n",
       "      <th>54</th>\n",
       "      <td>surprised</td>\n",
       "    </tr>\n",
       "    <tr>\n",
       "      <th>55</th>\n",
       "      <td>surprised</td>\n",
       "    </tr>\n",
       "    <tr>\n",
       "      <th>56</th>\n",
       "      <td>surprised</td>\n",
       "    </tr>\n",
       "    <tr>\n",
       "      <th>57</th>\n",
       "      <td>surprised</td>\n",
       "    </tr>\n",
       "    <tr>\n",
       "      <th>58</th>\n",
       "      <td>surprised</td>\n",
       "    </tr>\n",
       "    <tr>\n",
       "      <th>59</th>\n",
       "      <td>surprised</td>\n",
       "    </tr>\n",
       "  </tbody>\n",
       "</table>\n",
       "</div>"
      ],
      "text/plain": [
       "          emo\n",
       "0     neutral\n",
       "1     neutral\n",
       "2     neutral\n",
       "3     neutral\n",
       "4        calm\n",
       "5        calm\n",
       "6        calm\n",
       "7        calm\n",
       "8        calm\n",
       "9        calm\n",
       "10       calm\n",
       "11       calm\n",
       "12      happy\n",
       "13      happy\n",
       "14      happy\n",
       "15      happy\n",
       "16      happy\n",
       "17      happy\n",
       "18      happy\n",
       "19      happy\n",
       "20        sad\n",
       "21        sad\n",
       "22        sad\n",
       "23        sad\n",
       "24        sad\n",
       "25        sad\n",
       "26        sad\n",
       "27        sad\n",
       "28      angry\n",
       "29      angry\n",
       "30      angry\n",
       "31      angry\n",
       "32      angry\n",
       "33      angry\n",
       "34      angry\n",
       "35      angry\n",
       "36    fearful\n",
       "37    fearful\n",
       "38    fearful\n",
       "39    fearful\n",
       "40    fearful\n",
       "41    fearful\n",
       "42    fearful\n",
       "43    fearful\n",
       "44    disgust\n",
       "45    disgust\n",
       "46    disgust\n",
       "47    disgust\n",
       "48    disgust\n",
       "49    disgust\n",
       "50    disgust\n",
       "51    disgust\n",
       "52  surprised\n",
       "53  surprised\n",
       "54  surprised\n",
       "55  surprised\n",
       "56  surprised\n",
       "57  surprised\n",
       "58  surprised\n",
       "59  surprised"
      ]
     },
     "execution_count": 114,
     "metadata": {},
     "output_type": "execute_result"
    }
   ],
   "source": [
    "y = labels()\n",
    "df = pd.DataFrame(y, columns =['emo'])\n",
    "df"
   ]
  },
  {
   "cell_type": "code",
   "execution_count": 115,
   "metadata": {},
   "outputs": [
    {
     "data": {
      "text/plain": [
       "emo\n",
       "angry        8\n",
       "calm         8\n",
       "disgust      8\n",
       "fearful      8\n",
       "happy        8\n",
       "neutral      4\n",
       "sad          8\n",
       "surprised    8\n",
       "dtype: int64"
      ]
     },
     "execution_count": 115,
     "metadata": {},
     "output_type": "execute_result"
    }
   ],
   "source": [
    "df.groupby('emo').size()"
   ]
  },
  {
   "cell_type": "code",
   "execution_count": 116,
   "metadata": {},
   "outputs": [],
   "source": [
    "y = labels()\n",
    "y = np.array(y)\n",
    "y = np.unique(y)\n",
    "y.sort()\n",
    "y = list(y)"
   ]
  },
  {
   "cell_type": "code",
   "execution_count": 117,
   "metadata": {},
   "outputs": [
    {
     "data": {
      "text/plain": [
       "[Text(0, 0, '8'),\n",
       " Text(0, 0, '8'),\n",
       " Text(0, 0, '8'),\n",
       " Text(0, 0, '8'),\n",
       " Text(0, 0, '8'),\n",
       " Text(0, 0, '4'),\n",
       " Text(0, 0, '8'),\n",
       " Text(0, 0, '8')]"
      ]
     },
     "execution_count": 117,
     "metadata": {},
     "output_type": "execute_result"
    },
    {
     "data": {
      "image/png": "[encoded data removed]",
      "text/plain": [
       "<Figure size 432x288 with 1 Axes>"
      ]
     },
     "metadata": {
      "needs_background": "light"
     },
     "output_type": "display_data"
    }
   ],
   "source": [
    "import matplotlib.pyplot as plt\n",
    "from matplotlib.pyplot import figure\n",
    "\n",
    "bars = plt.barh(y ,df.groupby('emo').size())\n",
    "plt.bar_label(bars)"
   ]
  },
  {
   "cell_type": "code",
   "execution_count": 118,
   "metadata": {
    "id": "JnPU9pyjKYrq"
   },
   "outputs": [],
   "source": [
    "import librosa\n",
    "%matplotlib inline\n",
    "import matplotlib.pyplot as plt\n",
    "import librosa.display\n",
    "from IPython.display import Audio\n",
    "import numpy as np\n",
    "import tensorflow as tf\n",
    "from matplotlib.pyplot import specgram\n",
    "import pandas as pd\n",
    "from sklearn.metrics import confusion_matrix\n",
    "import IPython.display as ipd  # To play sound in the notebook\n",
    "import os # interface with underlying OS that python is running on\n",
    "import sys\n",
    "import warnings\n",
    "# ignore warnings \n",
    "if not sys.warnoptions:\n",
    "    warnings.simplefilter(\"ignore\")\n",
    "warnings.filterwarnings(\"ignore\", category=DeprecationWarning)\n",
    "from sklearn.model_selection import train_test_split\n",
    "from sklearn.preprocessing import LabelEncoder\n",
    "import tensorflow.keras\n",
    "from tensorflow.keras.models import Sequential\n",
    "from tensorflow.keras.layers import Conv1D, MaxPooling1D, AveragePooling1D\n",
    "from tensorflow.keras.layers import Input, Flatten, Dropout, Activation, BatchNormalization, Dense\n",
    "from tensorflow.keras.wrappers.scikit_learn import KerasClassifier\n",
    "from tensorflow.keras.optimizers import SGD\n",
    "from tensorflow.keras.regularizers import l2\n",
    "import seaborn as sns\n",
    "from tensorflow.keras.utils import to_categorical\n",
    "from sklearn.metrics import classification_report"
   ]
  },
  {
   "cell_type": "code",
   "execution_count": 119,
   "metadata": {
    "id": "tMgPUI4IKgbM"
   },
   "outputs": [],
   "source": [
    "y_train=np.array(y_train)\n",
    "y_test=np.array(y_test)"
   ]
  },
  {
   "cell_type": "code",
   "execution_count": 120,
   "metadata": {
    "id": "1sJOgcF5Ki5N"
   },
   "outputs": [],
   "source": [
    "# ONE HOT ENCODE THE TARGET\n",
    "lb = LabelEncoder()\n",
    "y_train = to_categorical(lb.fit_transform(y_train))\n",
    "y_test = to_categorical(lb.fit_transform(y_test))"
   ]
  },
  {
   "cell_type": "code",
   "execution_count": 121,
   "metadata": {
    "colab": {
     "base_uri": "https://localhost:8080/"
    },
    "id": "pxzzGDXHKlfV",
    "outputId": "d9f7d63a-1bc7-408b-9023-46690fe89781"
   },
   "outputs": [
    {
     "data": {
      "text/plain": [
       "(1008, 182, 1)"
      ]
     },
     "execution_count": 121,
     "metadata": {},
     "output_type": "execute_result"
    }
   ],
   "source": [
    "# RESHAPE DATA TO INCLUDE 3D TENSOR \n",
    "x_train = x_train[:,:,np.newaxis]\n",
    "x_test = x_test[:,:,np.newaxis]\n",
    "x_train.shape"
   ]
  },
  {
   "cell_type": "code",
   "execution_count": 122,
   "metadata": {
    "colab": {
     "base_uri": "https://localhost:8080/"
    },
    "id": "GeOHeNSqKn20",
    "outputId": "4356f12f-96d6-4696-bd06-2a435564b735"
   },
   "outputs": [
    {
     "name": "stdout",
     "output_type": "stream",
     "text": [
      "Model: \"sequential\"\n",
      "_________________________________________________________________\n",
      " Layer (type)                Output Shape              Param #   \n",
      "=================================================================\n",
      " conv1d (Conv1D)             (None, 173, 64)           704       \n",
      "                                                                 \n",
      " conv1d_1 (Conv1D)           (None, 164, 128)          82048     \n",
      "                                                                 \n",
      " max_pooling1d (MaxPooling1D  (None, 20, 128)          0         \n",
      " )                                                               \n",
      "                                                                 \n",
      " dropout (Dropout)           (None, 20, 128)           0         \n",
      "                                                                 \n",
      " conv1d_2 (Conv1D)           (None, 11, 128)           163968    \n",
      "                                                                 \n",
      " max_pooling1d_1 (MaxPooling  (None, 1, 128)           0         \n",
      " 1D)                                                             \n",
      "                                                                 \n",
      " dropout_1 (Dropout)         (None, 1, 128)            0         \n",
      "                                                                 \n",
      " flatten (Flatten)           (None, 128)               0         \n",
      "                                                                 \n",
      " dense (Dense)               (None, 256)               33024     \n",
      "                                                                 \n",
      " dropout_2 (Dropout)         (None, 256)               0         \n",
      "                                                                 \n",
      " dense_1 (Dense)             (None, 8)                 2056      \n",
      "                                                                 \n",
      "=================================================================\n",
      "Total params: 281,800\n",
      "Trainable params: 281,800\n",
      "Non-trainable params: 0\n",
      "_________________________________________________________________\n"
     ]
    }
   ],
   "source": [
    "import tensorflow as tf\n",
    "from tensorflow import keras\n",
    "from tensorflow.keras import layers\n",
    "from tensorflow.keras.models import Sequential, load_model\n",
    "\n",
    "#BUILD 1D CNN\n",
    "model = tf.keras.Sequential()\n",
    "model.add(layers.Conv1D(64, kernel_size=(10), activation='relu', input_shape=(x_train.shape[1],1)))\n",
    "model.add(layers.Conv1D(128, kernel_size=(10),activation='relu',kernel_regularizer=l2(0.01), bias_regularizer=l2(0.01)))\n",
    "model.add(layers.MaxPooling1D(pool_size=(8)))\n",
    "model.add(layers.Dropout(0.4))\n",
    "model.add(layers.Conv1D(128, kernel_size=(10),activation='relu'))\n",
    "model.add(layers.MaxPooling1D(pool_size=(8)))\n",
    "model.add(layers.Dropout(0.4))\n",
    "model.add(layers.Flatten())\n",
    "model.add(layers.Dense(256, activation='relu'))\n",
    "model.add(layers.Dropout(0.5))\n",
    "model.add(layers.Dense(8, activation='sigmoid'))\n",
    "opt = keras.optimizers.Adam(lr=0.001)\n",
    "model.compile(loss='categorical_crossentropy', optimizer=opt,metrics=['accuracy'])\n",
    "model.summary()"
   ]
  },
  {
   "cell_type": "code",
   "execution_count": 123,
   "metadata": {
    "colab": {
     "base_uri": "https://localhost:8080/"
    },
    "id": "lELR2x6pKsdt",
    "outputId": "9d1fc048-87e7-4bcc-c2c4-2634edfe0b74"
   },
   "outputs": [
    {
     "name": "stdout",
     "output_type": "stream",
     "text": [
      "Epoch 1/100\n",
      "32/32 [==============================] - 8s 35ms/step - loss: 2.9019 - accuracy: 0.1815 - val_loss: 2.5995 - val_accuracy: 0.2619\n",
      "Epoch 2/100\n",
      "32/32 [==============================] - 0s 15ms/step - loss: 2.5227 - accuracy: 0.2222 - val_loss: 2.3759 - val_accuracy: 0.2302\n",
      "Epoch 3/100\n",
      "32/32 [==============================] - 0s 14ms/step - loss: 2.3488 - accuracy: 0.2123 - val_loss: 2.2026 - val_accuracy: 0.2579\n",
      "Epoch 4/100\n",
      "32/32 [==============================] - 0s 14ms/step - loss: 2.1667 - accuracy: 0.2579 - val_loss: 2.0898 - val_accuracy: 0.2778\n",
      "Epoch 5/100\n",
      "32/32 [==============================] - 0s 15ms/step - loss: 2.1085 - accuracy: 0.2708 - val_loss: 2.0040 - val_accuracy: 0.2540\n",
      "Epoch 6/100\n",
      "32/32 [==============================] - 0s 14ms/step - loss: 1.9800 - accuracy: 0.2966 - val_loss: 1.9498 - val_accuracy: 0.2460\n",
      "Epoch 7/100\n",
      "32/32 [==============================] - 0s 14ms/step - loss: 1.9297 - accuracy: 0.3135 - val_loss: 1.8828 - val_accuracy: 0.3452\n",
      "Epoch 8/100\n",
      "32/32 [==============================] - 0s 14ms/step - loss: 1.9018 - accuracy: 0.2996 - val_loss: 1.8697 - val_accuracy: 0.3611\n",
      "Epoch 9/100\n",
      "32/32 [==============================] - 0s 15ms/step - loss: 1.8609 - accuracy: 0.3085 - val_loss: 1.8625 - val_accuracy: 0.3254\n",
      "Epoch 10/100\n",
      "32/32 [==============================] - 0s 15ms/step - loss: 1.8437 - accuracy: 0.3304 - val_loss: 1.7935 - val_accuracy: 0.3571\n",
      "Epoch 11/100\n",
      "32/32 [==============================] - 0s 15ms/step - loss: 1.7836 - accuracy: 0.3571 - val_loss: 1.7665 - val_accuracy: 0.3730\n",
      "Epoch 12/100\n",
      "32/32 [==============================] - 0s 14ms/step - loss: 1.7467 - accuracy: 0.3760 - val_loss: 1.7540 - val_accuracy: 0.3690\n",
      "Epoch 13/100\n",
      "32/32 [==============================] - 0s 15ms/step - loss: 1.6942 - accuracy: 0.3829 - val_loss: 1.6836 - val_accuracy: 0.4048\n",
      "Epoch 14/100\n",
      "32/32 [==============================] - 0s 14ms/step - loss: 1.7011 - accuracy: 0.3958 - val_loss: 1.7072 - val_accuracy: 0.3889\n",
      "Epoch 15/100\n",
      "32/32 [==============================] - 0s 14ms/step - loss: 1.6728 - accuracy: 0.3998 - val_loss: 1.6657 - val_accuracy: 0.4246\n",
      "Epoch 16/100\n",
      "32/32 [==============================] - 0s 15ms/step - loss: 1.6753 - accuracy: 0.4058 - val_loss: 1.6818 - val_accuracy: 0.3849\n",
      "Epoch 17/100\n",
      "32/32 [==============================] - 0s 15ms/step - loss: 1.6277 - accuracy: 0.4335 - val_loss: 1.7096 - val_accuracy: 0.4008\n",
      "Epoch 18/100\n",
      "32/32 [==============================] - 0s 15ms/step - loss: 1.6597 - accuracy: 0.4018 - val_loss: 1.6436 - val_accuracy: 0.4246\n",
      "Epoch 19/100\n",
      "32/32 [==============================] - 0s 15ms/step - loss: 1.5691 - accuracy: 0.4603 - val_loss: 1.6026 - val_accuracy: 0.4206\n",
      "Epoch 20/100\n",
      "32/32 [==============================] - 0s 15ms/step - loss: 1.5648 - accuracy: 0.4335 - val_loss: 1.6715 - val_accuracy: 0.3929\n",
      "Epoch 21/100\n",
      "32/32 [==============================] - 0s 15ms/step - loss: 1.5634 - accuracy: 0.4514 - val_loss: 1.6131 - val_accuracy: 0.4365\n",
      "Epoch 22/100\n",
      "32/32 [==============================] - 0s 15ms/step - loss: 1.5440 - accuracy: 0.4464 - val_loss: 1.6250 - val_accuracy: 0.4286\n",
      "Epoch 23/100\n",
      "32/32 [==============================] - 0s 15ms/step - loss: 1.5169 - accuracy: 0.4762 - val_loss: 1.5584 - val_accuracy: 0.4722\n",
      "Epoch 24/100\n",
      "32/32 [==============================] - 0s 15ms/step - loss: 1.4956 - accuracy: 0.4931 - val_loss: 1.5879 - val_accuracy: 0.4405\n",
      "Epoch 25/100\n",
      "32/32 [==============================] - 0s 15ms/step - loss: 1.4618 - accuracy: 0.4940 - val_loss: 1.6554 - val_accuracy: 0.4722\n",
      "Epoch 26/100\n",
      "32/32 [==============================] - 0s 15ms/step - loss: 1.4789 - accuracy: 0.4960 - val_loss: 1.5573 - val_accuracy: 0.4683\n",
      "Epoch 27/100\n",
      "32/32 [==============================] - 0s 15ms/step - loss: 1.4361 - accuracy: 0.5069 - val_loss: 1.5462 - val_accuracy: 0.4762\n",
      "Epoch 28/100\n",
      "32/32 [==============================] - 0s 15ms/step - loss: 1.4553 - accuracy: 0.4881 - val_loss: 1.5977 - val_accuracy: 0.4841\n",
      "Epoch 29/100\n",
      "32/32 [==============================] - 0s 14ms/step - loss: 1.4017 - accuracy: 0.5357 - val_loss: 1.4891 - val_accuracy: 0.4524\n",
      "Epoch 30/100\n",
      "32/32 [==============================] - 0s 15ms/step - loss: 1.3575 - accuracy: 0.5407 - val_loss: 1.5443 - val_accuracy: 0.4722\n",
      "Epoch 31/100\n",
      "32/32 [==============================] - 0s 16ms/step - loss: 1.3410 - accuracy: 0.5417 - val_loss: 1.4925 - val_accuracy: 0.4881\n",
      "Epoch 32/100\n",
      "32/32 [==============================] - 0s 14ms/step - loss: 1.3600 - accuracy: 0.5496 - val_loss: 1.6357 - val_accuracy: 0.4603\n",
      "Epoch 33/100\n",
      "32/32 [==============================] - 0s 14ms/step - loss: 1.3538 - accuracy: 0.5466 - val_loss: 1.4999 - val_accuracy: 0.4841\n",
      "Epoch 34/100\n",
      "32/32 [==============================] - 0s 14ms/step - loss: 1.3085 - accuracy: 0.5565 - val_loss: 1.5372 - val_accuracy: 0.4722\n",
      "Epoch 35/100\n",
      "32/32 [==============================] - 0s 14ms/step - loss: 1.3320 - accuracy: 0.5863 - val_loss: 1.4648 - val_accuracy: 0.5119\n",
      "Epoch 36/100\n",
      "32/32 [==============================] - 0s 14ms/step - loss: 1.2761 - accuracy: 0.5675 - val_loss: 1.5623 - val_accuracy: 0.4921\n",
      "Epoch 37/100\n",
      "32/32 [==============================] - 0s 14ms/step - loss: 1.3160 - accuracy: 0.5754 - val_loss: 1.4619 - val_accuracy: 0.4881\n",
      "Epoch 38/100\n",
      "32/32 [==============================] - 0s 14ms/step - loss: 1.2764 - accuracy: 0.5923 - val_loss: 1.6667 - val_accuracy: 0.4643\n",
      "Epoch 39/100\n",
      "32/32 [==============================] - 0s 14ms/step - loss: 1.2798 - accuracy: 0.5784 - val_loss: 1.4528 - val_accuracy: 0.5079\n",
      "Epoch 40/100\n",
      "32/32 [==============================] - 0s 15ms/step - loss: 1.2317 - accuracy: 0.6101 - val_loss: 1.4543 - val_accuracy: 0.5159\n",
      "Epoch 41/100\n",
      "32/32 [==============================] - 0s 15ms/step - loss: 1.1971 - accuracy: 0.6220 - val_loss: 1.4687 - val_accuracy: 0.5357\n",
      "Epoch 42/100\n",
      "32/32 [==============================] - 0s 15ms/step - loss: 1.2131 - accuracy: 0.6210 - val_loss: 1.4789 - val_accuracy: 0.4722\n",
      "Epoch 43/100\n",
      "32/32 [==============================] - 0s 14ms/step - loss: 1.2216 - accuracy: 0.6052 - val_loss: 1.5014 - val_accuracy: 0.5397\n",
      "Epoch 44/100\n",
      "32/32 [==============================] - 0s 14ms/step - loss: 1.2112 - accuracy: 0.6310 - val_loss: 1.4423 - val_accuracy: 0.5357\n",
      "Epoch 45/100\n",
      "32/32 [==============================] - 0s 15ms/step - loss: 1.1525 - accuracy: 0.6567 - val_loss: 1.4395 - val_accuracy: 0.5317\n",
      "Epoch 46/100\n",
      "32/32 [==============================] - 0s 15ms/step - loss: 1.2030 - accuracy: 0.6448 - val_loss: 1.4776 - val_accuracy: 0.5198\n",
      "Epoch 47/100\n",
      "32/32 [==============================] - 0s 14ms/step - loss: 1.1649 - accuracy: 0.6429 - val_loss: 1.4657 - val_accuracy: 0.5278\n",
      "Epoch 48/100\n",
      "32/32 [==============================] - 0s 15ms/step - loss: 1.1756 - accuracy: 0.6349 - val_loss: 1.6122 - val_accuracy: 0.5040\n",
      "Epoch 49/100\n",
      "32/32 [==============================] - 0s 14ms/step - loss: 1.1512 - accuracy: 0.6577 - val_loss: 1.4487 - val_accuracy: 0.5119\n",
      "Epoch 50/100\n",
      "32/32 [==============================] - 0s 15ms/step - loss: 1.1230 - accuracy: 0.6806 - val_loss: 1.5486 - val_accuracy: 0.5397\n",
      "Epoch 51/100\n",
      "32/32 [==============================] - 0s 14ms/step - loss: 1.1476 - accuracy: 0.6558 - val_loss: 1.5163 - val_accuracy: 0.5357\n",
      "Epoch 52/100\n",
      "32/32 [==============================] - 0s 15ms/step - loss: 1.0840 - accuracy: 0.6786 - val_loss: 1.4564 - val_accuracy: 0.5397\n",
      "Epoch 53/100\n",
      "32/32 [==============================] - 0s 15ms/step - loss: 1.0967 - accuracy: 0.6567 - val_loss: 1.5363 - val_accuracy: 0.5278\n",
      "Epoch 54/100\n",
      "32/32 [==============================] - 0s 14ms/step - loss: 1.0927 - accuracy: 0.6677 - val_loss: 1.4130 - val_accuracy: 0.5873\n",
      "Epoch 55/100\n",
      "32/32 [==============================] - 0s 14ms/step - loss: 0.9970 - accuracy: 0.7272 - val_loss: 1.5862 - val_accuracy: 0.5714\n",
      "Epoch 56/100\n",
      "32/32 [==============================] - 0s 15ms/step - loss: 1.0883 - accuracy: 0.6915 - val_loss: 1.4304 - val_accuracy: 0.5516\n",
      "Epoch 57/100\n",
      "32/32 [==============================] - 0s 14ms/step - loss: 1.0138 - accuracy: 0.7024 - val_loss: 1.4910 - val_accuracy: 0.5437\n",
      "Epoch 58/100\n"
     ]
    },
    {
     "name": "stdout",
     "output_type": "stream",
     "text": [
      "32/32 [==============================] - 0s 14ms/step - loss: 0.9865 - accuracy: 0.7133 - val_loss: 1.5125 - val_accuracy: 0.5556\n",
      "Epoch 59/100\n",
      "32/32 [==============================] - 0s 15ms/step - loss: 1.0051 - accuracy: 0.7173 - val_loss: 1.4258 - val_accuracy: 0.5913\n",
      "Epoch 60/100\n",
      "32/32 [==============================] - 0s 15ms/step - loss: 1.0541 - accuracy: 0.6925 - val_loss: 1.4578 - val_accuracy: 0.5675\n",
      "Epoch 61/100\n",
      "32/32 [==============================] - 0s 15ms/step - loss: 0.9575 - accuracy: 0.7520 - val_loss: 1.4305 - val_accuracy: 0.5754\n",
      "Epoch 62/100\n",
      "32/32 [==============================] - 0s 14ms/step - loss: 0.9583 - accuracy: 0.7341 - val_loss: 1.5271 - val_accuracy: 0.5476\n",
      "Epoch 63/100\n",
      "32/32 [==============================] - 0s 14ms/step - loss: 0.9281 - accuracy: 0.7450 - val_loss: 1.4536 - val_accuracy: 0.5952\n",
      "Epoch 64/100\n",
      "32/32 [==============================] - 0s 15ms/step - loss: 0.9451 - accuracy: 0.7460 - val_loss: 1.4836 - val_accuracy: 0.5714\n",
      "Epoch 65/100\n",
      "32/32 [==============================] - 0s 14ms/step - loss: 0.9450 - accuracy: 0.7490 - val_loss: 1.4404 - val_accuracy: 0.6230\n",
      "Epoch 66/100\n",
      "32/32 [==============================] - 0s 15ms/step - loss: 1.0044 - accuracy: 0.6954 - val_loss: 1.4723 - val_accuracy: 0.5595\n",
      "Epoch 67/100\n",
      "32/32 [==============================] - 0s 15ms/step - loss: 0.9496 - accuracy: 0.7490 - val_loss: 1.4164 - val_accuracy: 0.6111\n",
      "Epoch 68/100\n",
      "32/32 [==============================] - 0s 14ms/step - loss: 0.8485 - accuracy: 0.7738 - val_loss: 1.4631 - val_accuracy: 0.5675\n",
      "Epoch 69/100\n",
      "32/32 [==============================] - 0s 15ms/step - loss: 0.9038 - accuracy: 0.7560 - val_loss: 1.5958 - val_accuracy: 0.5278\n",
      "Epoch 70/100\n",
      "32/32 [==============================] - 0s 15ms/step - loss: 1.0933 - accuracy: 0.7024 - val_loss: 1.5298 - val_accuracy: 0.5595\n",
      "Epoch 71/100\n",
      "32/32 [==============================] - 0s 14ms/step - loss: 0.9849 - accuracy: 0.7252 - val_loss: 1.4516 - val_accuracy: 0.5714\n",
      "Epoch 72/100\n",
      "32/32 [==============================] - 0s 15ms/step - loss: 0.9706 - accuracy: 0.7292 - val_loss: 1.4831 - val_accuracy: 0.5873\n",
      "Epoch 73/100\n",
      "32/32 [==============================] - 0s 14ms/step - loss: 0.9007 - accuracy: 0.7718 - val_loss: 1.4435 - val_accuracy: 0.6151\n",
      "Epoch 74/100\n",
      "32/32 [==============================] - 0s 14ms/step - loss: 0.9611 - accuracy: 0.7242 - val_loss: 1.3994 - val_accuracy: 0.5833\n",
      "Epoch 75/100\n",
      "32/32 [==============================] - 0s 14ms/step - loss: 0.8929 - accuracy: 0.7599 - val_loss: 1.4528 - val_accuracy: 0.5992\n",
      "Epoch 76/100\n",
      "32/32 [==============================] - 0s 15ms/step - loss: 0.8553 - accuracy: 0.7798 - val_loss: 1.4681 - val_accuracy: 0.5952\n",
      "Epoch 77/100\n",
      "32/32 [==============================] - 0s 15ms/step - loss: 0.8872 - accuracy: 0.7659 - val_loss: 1.3402 - val_accuracy: 0.6190\n",
      "Epoch 78/100\n",
      "32/32 [==============================] - 0s 14ms/step - loss: 0.8807 - accuracy: 0.7599 - val_loss: 1.4778 - val_accuracy: 0.6071\n",
      "Epoch 79/100\n",
      "32/32 [==============================] - 0s 15ms/step - loss: 0.8887 - accuracy: 0.7619 - val_loss: 1.4842 - val_accuracy: 0.5952\n",
      "Epoch 80/100\n",
      "32/32 [==============================] - 0s 15ms/step - loss: 0.8858 - accuracy: 0.7718 - val_loss: 1.5008 - val_accuracy: 0.5992\n",
      "Epoch 81/100\n",
      "32/32 [==============================] - 0s 15ms/step - loss: 0.8438 - accuracy: 0.7857 - val_loss: 1.4124 - val_accuracy: 0.5873\n",
      "Epoch 82/100\n",
      "32/32 [==============================] - 0s 15ms/step - loss: 0.7562 - accuracy: 0.8115 - val_loss: 1.5214 - val_accuracy: 0.5714\n",
      "Epoch 83/100\n",
      "32/32 [==============================] - 0s 15ms/step - loss: 0.8208 - accuracy: 0.7887 - val_loss: 1.4693 - val_accuracy: 0.6310\n",
      "Epoch 84/100\n",
      "32/32 [==============================] - 0s 15ms/step - loss: 0.8363 - accuracy: 0.7907 - val_loss: 1.4271 - val_accuracy: 0.6190\n",
      "Epoch 85/100\n",
      "32/32 [==============================] - 0s 14ms/step - loss: 0.7825 - accuracy: 0.7927 - val_loss: 1.6599 - val_accuracy: 0.6190\n",
      "Epoch 86/100\n",
      "32/32 [==============================] - 0s 14ms/step - loss: 0.8360 - accuracy: 0.7679 - val_loss: 1.4434 - val_accuracy: 0.5952\n",
      "Epoch 87/100\n",
      "32/32 [==============================] - 0s 14ms/step - loss: 0.7776 - accuracy: 0.8046 - val_loss: 1.5144 - val_accuracy: 0.6151\n",
      "Epoch 88/100\n",
      "32/32 [==============================] - 0s 15ms/step - loss: 0.7321 - accuracy: 0.8234 - val_loss: 1.4509 - val_accuracy: 0.6151\n",
      "Epoch 89/100\n",
      "32/32 [==============================] - 0s 14ms/step - loss: 0.7299 - accuracy: 0.8165 - val_loss: 1.5789 - val_accuracy: 0.6032\n",
      "Epoch 90/100\n",
      "32/32 [==============================] - 0s 14ms/step - loss: 0.7442 - accuracy: 0.8125 - val_loss: 1.5048 - val_accuracy: 0.6190\n",
      "Epoch 91/100\n",
      "32/32 [==============================] - 0s 15ms/step - loss: 0.7713 - accuracy: 0.8204 - val_loss: 1.5200 - val_accuracy: 0.5754\n",
      "Epoch 92/100\n",
      "32/32 [==============================] - 0s 15ms/step - loss: 0.8141 - accuracy: 0.7956 - val_loss: 1.4907 - val_accuracy: 0.6270\n",
      "Epoch 93/100\n",
      "32/32 [==============================] - 0s 15ms/step - loss: 0.7387 - accuracy: 0.8234 - val_loss: 1.4097 - val_accuracy: 0.6310\n",
      "Epoch 94/100\n",
      "32/32 [==============================] - 0s 14ms/step - loss: 0.7495 - accuracy: 0.8046 - val_loss: 1.3589 - val_accuracy: 0.6230\n",
      "Epoch 95/100\n",
      "32/32 [==============================] - 0s 14ms/step - loss: 0.7071 - accuracy: 0.8194 - val_loss: 1.3842 - val_accuracy: 0.5794\n",
      "Epoch 96/100\n",
      "32/32 [==============================] - 0s 15ms/step - loss: 0.7693 - accuracy: 0.8075 - val_loss: 1.6240 - val_accuracy: 0.6151\n",
      "Epoch 97/100\n",
      "32/32 [==============================] - 0s 15ms/step - loss: 0.8762 - accuracy: 0.7976 - val_loss: 1.6310 - val_accuracy: 0.6071\n",
      "Epoch 98/100\n",
      "32/32 [==============================] - 0s 14ms/step - loss: 0.8151 - accuracy: 0.8135 - val_loss: 1.7110 - val_accuracy: 0.5952\n",
      "Epoch 99/100\n",
      "32/32 [==============================] - 0s 15ms/step - loss: 0.8650 - accuracy: 0.7788 - val_loss: 1.5389 - val_accuracy: 0.6310\n",
      "Epoch 100/100\n",
      "32/32 [==============================] - 0s 14ms/step - loss: 0.7923 - accuracy: 0.8284 - val_loss: 1.3615 - val_accuracy: 0.6310\n"
     ]
    }
   ],
   "source": [
    "import tensorflow.keras as keras\n",
    "model_history=model.fit(x_train, y_train,batch_size=32, epochs=100, validation_data=(x_test, y_test))"
   ]
  },
  {
   "cell_type": "code",
   "execution_count": 124,
   "metadata": {
    "colab": {
     "base_uri": "https://localhost:8080/"
    },
    "id": "kLNZ-LkyMIIW",
    "outputId": "9c9c730e-b04c-4843-b0cc-47313dc4b4ac"
   },
   "outputs": [
    {
     "name": "stdout",
     "output_type": "stream",
     "text": [
      "8/8 [==============================] - 0s 16ms/step - loss: 1.3615 - accuracy: 0.6310\n",
      "Loss of the model is -  1.3614795207977295\n",
      "8/8 [==============================] - 0s 15ms/step - loss: 1.3615 - accuracy: 0.6310\n",
      "Accuracy of the model is -  63.09523582458496 %\n"
     ]
    }
   ],
   "source": [
    "# PRINT LOSS AND ACCURACY PERCENTAGE ON TEST SET\n",
    "print(\"Loss of the model is - \" , model.evaluate(x_test,y_test)[0])\n",
    "print(\"Accuracy of the model is - \" , model.evaluate(x_test,y_test)[1]*100 , \"%\")"
   ]
  },
  {
   "cell_type": "code",
   "execution_count": 125,
   "metadata": {
    "colab": {
     "base_uri": "https://localhost:8080/",
     "height": 630
    },
    "id": "pOrgn-5uM6Bp",
    "outputId": "d0f444e0-9842-46ba-f7da-185c18b05893"
   },
   "outputs": [
    {
     "data": {
      "image/png": "[encoded data removed]",
      "text/plain": [
       "<Figure size 864x720 with 2 Axes>"
      ]
     },
     "metadata": {
      "needs_background": "light"
     },
     "output_type": "display_data"
    }
   ],
   "source": [
    "\n",
    "predictions = model.predict(x_test)\n",
    "predictions = predictions.argmax(axis=1)\n",
    "predictions = predictions.astype(int).flatten()\n",
    "predictions = (lb.inverse_transform((predictions)))\n",
    "actual = y_test.argmax(axis=1)\n",
    "actual = actual.astype(int).flatten()\n",
    "actual = (lb.inverse_transform((actual)))\n",
    "cm = confusion_matrix(actual, predictions,normalize='true')\n",
    "plt.figure(figsize = (12, 10))\n",
    "#conf_matrix= pd.DataFrame(cm,columns=None)\n",
    "#conf_matrix.to_csv(r'E:\\confusion_matrix.csv', index = False, header=False)\n",
    "ax = sns.heatmap(np.round(cm*100), linecolor='white', cmap='Blues', linewidth=1, annot=True, fmt='')\n",
    "bottom, top = ax.get_ylim()\n",
    "ax.set_ylim(bottom + 0.5, top - 0.5)\n",
    "plt.title('Confusion Matrix', size=20)\n",
    "plt.xlabel('Predicted Labels', size=14)\n",
    "plt.ylabel('Actual Labels', size=14)\n",
    "#plt.savefig('Initial_Model_Confusion_Matrix.png')\n",
    "plt.show()"
   ]
  },
  {
   "cell_type": "code",
   "execution_count": 126,
   "metadata": {},
   "outputs": [
    {
     "name": "stdout",
     "output_type": "stream",
     "text": [
      "[[27  0  3  0  1  1  0  3]\n",
      " [ 0 20  0  0  0  5  2  2]\n",
      " [ 3  2 16  3  1  1  2  3]\n",
      " [ 3  0  1 24  2  0  1  1]\n",
      " [ 2  1  2  4 20  0  1  5]\n",
      " [ 0  4  1  0  3  7  2  3]\n",
      " [ 0  4  0  9  1  1 15  5]\n",
      " [ 1  1  0  0  3  0  0 30]]\n"
     ]
    }
   ],
   "source": [
    "cf_matrix = confusion_matrix(actual, predictions)\n",
    "print(cf_matrix)"
   ]
  },
  {
   "cell_type": "code",
   "execution_count": 127,
   "metadata": {},
   "outputs": [
    {
     "data": {
      "text/plain": [
       "array([77.14285714, 68.96551724, 51.61290323, 75.        , 57.14285714,\n",
       "       35.        , 42.85714286, 85.71428571])"
      ]
     },
     "execution_count": 127,
     "metadata": {},
     "output_type": "execute_result"
    }
   ],
   "source": [
    "cm = cf_matrix.astype('float') / cf_matrix.sum(axis=1)[:, np.newaxis]\n",
    "#The diagonal entries are the accuracies of each class\n",
    "cm.diagonal()*100"
   ]
  },
  {
   "cell_type": "code",
   "execution_count": 128,
   "metadata": {},
   "outputs": [
    {
     "data": {
      "text/plain": [
       "Text(0.5, 1.0, 'accuracy of each class')"
      ]
     },
     "execution_count": 128,
     "metadata": {},
     "output_type": "execute_result"
    },
    {
     "data": {
      "image/png": "[encoded data removed]",
      "text/plain": [
       "<Figure size 432x288 with 1 Axes>"
      ]
     },
     "metadata": {
      "needs_background": "light"
     },
     "output_type": "display_data"
    }
   ],
   "source": [
    "plt.bar(y,cm.diagonal()*100)\n",
    "plt.xticks(rotation=90)\n",
    "plt.title(\"accuracy of each class\")"
   ]
  },
  {
   "cell_type": "code",
   "execution_count": 129,
   "metadata": {
    "colab": {
     "base_uri": "https://localhost:8080/"
    },
    "id": "l11VXuwiNDK4",
    "outputId": "e23c3e94-7044-4d70-a0bd-10725c43b8a1"
   },
   "outputs": [
    {
     "name": "stdout",
     "output_type": "stream",
     "text": [
      "              precision    recall  f1-score   support\n",
      "\n",
      "       angry       0.75      0.77      0.76        35\n",
      "        calm       0.62      0.69      0.66        29\n",
      "     disgust       0.70      0.52      0.59        31\n",
      "        fear       0.60      0.75      0.67        32\n",
      "       happy       0.65      0.57      0.61        35\n",
      "     neutral       0.47      0.35      0.40        20\n",
      "         sad       0.65      0.43      0.52        35\n",
      "    surprise       0.58      0.86      0.69        35\n",
      "\n",
      "    accuracy                           0.63       252\n",
      "   macro avg       0.63      0.62      0.61       252\n",
      "weighted avg       0.64      0.63      0.62       252\n",
      "\n"
     ]
    }
   ],
   "source": [
    "print(classification_report(actual, predictions, target_names = ['angry','calm','disgust','fear','happy','neutral','sad','surprise']))"
   ]
  },
  {
   "cell_type": "code",
   "execution_count": 130,
   "metadata": {
    "colab": {
     "base_uri": "https://localhost:8080/"
    },
    "id": "730wRiYgNDMF",
    "outputId": "533db54f-fbe4-4661-e2ba-b60cafd40ba0"
   },
   "outputs": [
    {
     "name": "stdout",
     "output_type": "stream",
     "text": [
      "0.9471111693463297\n"
     ]
    }
   ],
   "source": [
    "from imblearn.metrics import specificity_score\n",
    "s=specificity_score(actual,predictions,average='macro')\n",
    "print(s)"
   ]
  },
  {
   "cell_type": "code",
   "execution_count": 131,
   "metadata": {
    "colab": {
     "base_uri": "https://localhost:8080/"
    },
    "id": "Mv1xhiL8NLhA",
    "outputId": "71887ae6-3cd2-421c-96b6-9a23d13fd677"
   },
   "outputs": [
    {
     "name": "stdout",
     "output_type": "stream",
     "text": [
      "0.9013232735480148\n"
     ]
    }
   ],
   "source": [
    "from sklearn.metrics import roc_auc_score\n",
    "y_score=model.predict(x_test)\n",
    "auc=roc_auc_score(y_test, y_score, average='macro',multi_class='ovo')\n",
    "print(auc)"
   ]
  },
  {
   "cell_type": "code",
   "execution_count": 132,
   "metadata": {
    "colab": {
     "base_uri": "https://localhost:8080/"
    },
    "id": "kLEaTol-NUMR",
    "outputId": "d89709b8-66a3-499c-d9f6-31ab8377d584"
   },
   "outputs": [
    {
     "name": "stdout",
     "output_type": "stream",
     "text": [
      "0.6264471401086058 0.6167944541554107 0.6110646877804657\n"
     ]
    }
   ],
   "source": [
    "from sklearn.metrics import precision_score\n",
    "from sklearn.metrics import recall_score\n",
    "from sklearn.metrics import f1_score\n",
    "p=precision_score(actual,predictions,average='macro')\n",
    "r=recall_score(actual,predictions,average='macro')\n",
    "f=f1_score(actual,predictions,average='macro')\n",
    "print(p,r,f)"
   ]
  },
  {
   "cell_type": "code",
   "execution_count": 133,
   "metadata": {
    "colab": {
     "base_uri": "https://localhost:8080/"
    },
    "id": "mzzwrkU0NXf9",
    "outputId": "d844e080-1733-483f-b707-2d129bad0248"
   },
   "outputs": [
    {
     "name": "stdout",
     "output_type": "stream",
     "text": [
      "[0.77142857 0.68965517 0.51612903 0.75       0.57142857 0.35\n",
      " 0.42857143 0.85714286]\n",
      "[0.03946264 0.06227781 0.03201531 0.06688611 0.0553736  0.0374021\n",
      " 0.04190044 0.10263118]\n"
     ]
    }
   ],
   "source": [
    "FP = cm.sum(axis=0) - np.diag(cm)  \n",
    "FN = cm.sum(axis=1) - np.diag(cm)\n",
    "TP = np.diag(cm)\n",
    "TN = cm.sum() - (FP + FN + TP)\n",
    "\n",
    "FP = FP.astype(float)\n",
    "FN = FN.astype(float)\n",
    "TP = TP.astype(float)\n",
    "TN = TN.astype(float)\n",
    "\n",
    "# Sensitivity, hit rate, recall, or true positive rate\n",
    "TPR = TP/(TP+FN)\n",
    "# Fall out or false positive rate\n",
    "FPR = FP/(FP+TN)\n",
    "print(TPR)\n",
    "print(FPR)"
   ]
  },
  {
   "cell_type": "code",
   "execution_count": 134,
   "metadata": {
    "id": "faKqgoVvNayo"
   },
   "outputs": [],
   "source": [
    "l=[]\n",
    "for i in range(100):\n",
    "  l.append(i+1)"
   ]
  },
  {
   "cell_type": "code",
   "execution_count": 135,
   "metadata": {
    "colab": {
     "base_uri": "https://localhost:8080/"
    },
    "id": "-suchOtyNkNQ",
    "outputId": "0a150bf4-c3e2-40c9-9d67-2abc26ee0bcb"
   },
   "outputs": [
    {
     "name": "stdout",
     "output_type": "stream",
     "text": [
      "    epoch no  acc train   acc val  loss train  loss val\n",
      "0          1   0.181548  0.261905    2.901936  2.599527\n",
      "1          2   0.222222  0.230159    2.522738  2.375877\n",
      "2          3   0.212302  0.257937    2.348767  2.202613\n",
      "3          4   0.257937  0.277778    2.166736  2.089803\n",
      "4          5   0.270833  0.253968    2.108501  2.003977\n",
      "..       ...        ...       ...         ...       ...\n",
      "95        96   0.807540  0.615079    0.769314  1.624000\n",
      "96        97   0.797619  0.607143    0.876248  1.630998\n",
      "97        98   0.813492  0.595238    0.815105  1.710974\n",
      "98        99   0.778770  0.630952    0.865025  1.538930\n",
      "99       100   0.828373  0.630952    0.792331  1.361480\n",
      "\n",
      "[100 rows x 5 columns]\n"
     ]
    }
   ],
   "source": [
    "from pandas import DataFrame\n",
    "C = {'epoch no':l,\n",
    "    'acc train':model_history.history['accuracy'],\n",
    "    'acc val':model_history.history['val_accuracy'],\n",
    "    'loss train':model_history.history['loss'],\n",
    "    'loss val':model_history.history['val_loss']}\n",
    "df = DataFrame(C, columns= ['epoch no','acc train','acc val','loss train','loss val'])\n",
    "export_csv = df.to_csv (r'E:\\result1.csv', index = None, header=True) \n",
    "print (df)"
   ]
  },
  {
   "cell_type": "code",
   "execution_count": 136,
   "metadata": {
    "colab": {
     "base_uri": "https://localhost:8080/"
    },
    "id": "0Yd_FW0INn0Q",
    "outputId": "2e7be86c-b108-4566-bfc0-b0732c11a238"
   },
   "outputs": [
    {
     "name": "stdout",
     "output_type": "stream",
     "text": [
      "            train acc            test acc    precision(macro)  \\\n",
      "0  0.8283730149269104  0.6309523582458496  0.6264471401086058   \n",
      "\n",
      "        recall(macro)           f1(macro)  specificity(macro)  \\\n",
      "0  0.6167944541554107  0.6110646877804657  0.9471111693463297   \n",
      "\n",
      "           AUC(macro) train time per epoch test time per epoch  \n",
      "0  0.9013232735480148                4 sec               4 sec  \n"
     ]
    }
   ],
   "source": [
    "from pandas import DataFrame\n",
    "C = {\n",
    "     'train acc':[str(model_history.history['accuracy'][99])],\n",
    "     'test acc':[str(model_history.history['val_accuracy'][99])],\n",
    "     'precision(macro)':[str(p)],\n",
    "     'recall(macro)':[str(r)],\n",
    "     'f1(macro)':[str(f)],\n",
    "     'specificity(macro)':[str(s)],\n",
    "     'AUC(macro)':[str(auc)],\n",
    "     'train time per epoch':['4 sec'],\n",
    "     'test time per epoch':['4 sec'],}\n",
    "df = DataFrame(C, columns= ['train acc','test acc','precision(macro)','recall(macro)','f1(macro)','specificity(macro)','AUC(macro)','train time per epoch','test time per epoch'])\n",
    "export_csv = df.to_csv (r'E:\\result2.csv', index = None, header=True) \n",
    "print (df)"
   ]
  },
  {
   "cell_type": "code",
   "execution_count": 137,
   "metadata": {
    "colab": {
     "base_uri": "https://localhost:8080/"
    },
    "id": "hbZhvzxlNzoX",
    "outputId": "a9fa9578-aca1-4b24-b064-1901487b5130"
   },
   "outputs": [
    {
     "name": "stdout",
     "output_type": "stream",
     "text": [
      "        TPR       FPR\n",
      "0  0.771429  0.039463\n",
      "1  0.689655  0.062278\n",
      "2  0.516129  0.032015\n",
      "3  0.750000  0.066886\n",
      "4  0.571429  0.055374\n",
      "5  0.350000  0.037402\n",
      "6  0.428571  0.041900\n",
      "7  0.857143  0.102631\n"
     ]
    }
   ],
   "source": [
    "from pandas import DataFrame\n",
    "C = {\n",
    "     'TPR': TPR,\n",
    "     'FPR': FPR}\n",
    "df = DataFrame(C, columns= ['TPR','FPR'])\n",
    "export_csv = df.to_csv (r'E:\\result3.csv', index = None, header=True) \n",
    "print (df)"
   ]
  },
  {
   "cell_type": "code",
   "execution_count": 138,
   "metadata": {},
   "outputs": [
    {
     "data": {
      "text/plain": [
       "(array([0.5, 1.5, 2.5, 3.5, 4.5, 5.5, 6.5, 7.5]),\n",
       " [Text(0, 0.5, 'angry'),\n",
       "  Text(0, 1.5, 'calm'),\n",
       "  Text(0, 2.5, 'disgust'),\n",
       "  Text(0, 3.5, 'fearful'),\n",
       "  Text(0, 4.5, 'happy'),\n",
       "  Text(0, 5.5, 'neutral'),\n",
       "  Text(0, 6.5, 'sad'),\n",
       "  Text(0, 7.5, 'surprised')])"
      ]
     },
     "execution_count": 138,
     "metadata": {},
     "output_type": "execute_result"
    },
    {
     "data": {
      "image/png": "[encoded data removed]",
      "text/plain": [
       "<Figure size 432x288 with 2 Axes>"
      ]
     },
     "metadata": {
      "needs_background": "light"
     },
     "output_type": "display_data"
    }
   ],
   "source": [
    "import seaborn as sns\n",
    "import matplotlib.pyplot as plt     \n",
    "\n",
    "ax= plt.subplot()\n",
    "sns.heatmap(cf_matrix, annot=True,linecolor='white', cmap='Reds', linewidth=2, fmt='', ax=ax);  #annot=True to annotate cells, ftm='g' to disable scientific notation\n",
    "\n",
    "# labels, title and ticks\n",
    "ax.set_xlabel('Predicted labels');ax.set_ylabel('True labels'); \n",
    "ax.set_title('Confusion Matrix'); \n",
    "ax.xaxis.set_ticklabels(y); ax.yaxis.set_ticklabels(y);\n",
    "plt.xticks(rotation=90)\n",
    "plt.yticks(rotation=0)"
   ]
  },
  {
   "cell_type": "code",
   "execution_count": 139,
   "metadata": {},
   "outputs": [
    {
     "data": {
      "text/plain": [
       "(array([0.5, 1.5, 2.5, 3.5, 4.5, 5.5, 6.5, 7.5]),\n",
       " [Text(0, 0.5, 'angry'),\n",
       "  Text(0, 1.5, 'calm'),\n",
       "  Text(0, 2.5, 'disgust'),\n",
       "  Text(0, 3.5, 'fearful'),\n",
       "  Text(0, 4.5, 'happy'),\n",
       "  Text(0, 5.5, 'neutral'),\n",
       "  Text(0, 6.5, 'sad'),\n",
       "  Text(0, 7.5, 'surprised')])"
      ]
     },
     "execution_count": 139,
     "metadata": {},
     "output_type": "execute_result"
    },
    {
     "data": {
      "image/png": "[encoded data removed]",
      "text/plain": [
       "<Figure size 432x288 with 2 Axes>"
      ]
     },
     "metadata": {
      "needs_background": "light"
     },
     "output_type": "display_data"
    }
   ],
   "source": [
    "import seaborn as sns\n",
    "import matplotlib.pyplot as plt     \n",
    "\n",
    "ax= plt.subplot()\n",
    "sns.heatmap(np.round(cm*100), annot=True,linecolor='white', cmap='Reds', linewidth=2, fmt='', ax=ax);  #annot=True to annotate cells, ftm='g' to disable scientific notation\n",
    "\n",
    "# labels, title and ticks\n",
    "ax.set_xlabel('Predicted labels');ax.set_ylabel('True labels'); \n",
    "ax.set_title('Confusion Matrix'); \n",
    "ax.xaxis.set_ticklabels(y); ax.yaxis.set_ticklabels(y);\n",
    "plt.xticks(rotation=90)\n",
    "plt.yticks(rotation=0)\n"
   ]
  },
  {
   "cell_type": "code",
   "execution_count": null,
   "metadata": {},
   "outputs": [],
   "source": []
  },
  {
   "cell_type": "code",
   "execution_count": null,
   "metadata": {},
   "outputs": [],
   "source": []
  }
 ],
 "metadata": {
  "colab": {
   "name": "cnn_fs1.ipynb",
   "provenance": []
  },
  "kernelspec": {
   "display_name": "Python 3",
   "language": "python",
   "name": "python3"
  },
  "language_info": {
   "codemirror_mode": {
    "name": "ipython",
    "version": 3
   },
   "file_extension": ".py",
   "mimetype": "text/x-python",
   "name": "python",
   "nbconvert_exporter": "python",
   "pygments_lexer": "ipython3",
   "version": "3.8.5"
  }
 },
 "nbformat": 4,
 "nbformat_minor": 1
}
