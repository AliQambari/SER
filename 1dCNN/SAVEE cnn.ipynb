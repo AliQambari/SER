{
 "cells": [
  {
   "cell_type": "code",
   "execution_count": 1,
   "metadata": {
    "id": "Q0VMUeV3U33I"
   },
   "outputs": [],
   "source": [
    "import librosa\n",
    "import os\n",
    "import pandas as pd\n",
    "import glob\n",
    "import numpy as np\n",
    "import soundfile\n",
    "from sklearn.model_selection import train_test_split"
   ]
  },
  {
   "cell_type": "code",
   "execution_count": 2,
   "metadata": {
    "id": "nwwJtN1JVyzX"
   },
   "outputs": [],
   "source": [
    "def extract_feature(file_name,mfcc,chroma,mel,zcr,rmse):\n",
    "    with soundfile.SoundFile(file_name) as sound_file:\n",
    "        X = sound_file.read(dtype=\"float32\")\n",
    "        sample_rate=sound_file.samplerate\n",
    "        stft=np.abs(librosa.stft(X))\n",
    "        result=np.array([])\n",
    "        if mfcc:\n",
    "            mfccs=np.mean(librosa.feature.mfcc(y=X, sr=sample_rate, n_mfcc=40).T,axis=0)\n",
    "            result=np.hstack((result, mfccs))\n",
    "        if chroma:\n",
    "            chroma=np.mean(librosa.feature.chroma_stft(S=stft, sr=sample_rate).T,axis=0)\n",
    "            result=np.hstack((result, chroma))\n",
    "        if mel:\n",
    "            mel=np.mean(librosa.feature.melspectrogram(X, sr=sample_rate).T,axis=0)\n",
    "            result=np.hstack((result, mel))\n",
    "        if zcr:\n",
    "            zcr=np.mean(librosa.feature.zero_crossing_rate(y=X, frame_length=2048, hop_length=512).T,axis=0)\n",
    "            result=np.hstack((result, zcr))\n",
    "        if rmse:\n",
    "            rmse=np.mean(librosa.feature.rms(S=stft,frame_length=2048, hop_length=512, pad_mode='reflect').T,axis=0)\n",
    "            result=np.hstack((result, rmse))\n",
    "    return result"
   ]
  },
  {
   "cell_type": "code",
   "execution_count": null,
   "metadata": {},
   "outputs": [],
   "source": [
    "#help"
   ]
  },
  {
   "cell_type": "code",
   "execution_count": 1,
   "metadata": {},
   "outputs": [
    {
     "data": {
      "text/plain": [
       "\"\\nsavee_directory_list = os.listdir(Savee)\\n\\nfile_emotion = []\\nfile_path = []\\n\\nfor file in savee_directory_list:\\n    file_path.append(Savee + file)\\n    part = file.split('_')[1]\\n    ele = part[:-6]\\n    if ele=='a':\\n        file_emotion.append('angry')\\n    elif ele=='d':\\n        file_emotion.append('disgust')\\n    elif ele=='f':\\n        file_emotion.append('fear')\\n    elif ele=='h':\\n        file_emotion.append('happy')\\n    elif ele=='n':\\n        file_emotion.append('neutral')\\n    elif ele=='sa':\\n        file_emotion.append('sad')\\n    else:\\n        file_emotion.append('surprise')\\n        \\n\\nemotion_df = pd.DataFrame(file_emotion, columns=['Emotions'])\\n\\n\\npath_df = pd.DataFrame(file_path, columns=['Path'])\\nSavee_df = pd.concat([emotion_df, path_df], axis=1)\\nSavee_df.head()\\nSavee_df.Emotions.value_counts()\\n\\n\""
      ]
     },
     "execution_count": 1,
     "metadata": {},
     "output_type": "execute_result"
    }
   ],
   "source": [
    "\"\"\"\n",
    "savee_directory_list = os.listdir(Savee)\n",
    "\n",
    "file_emotion = []\n",
    "file_path = []\n",
    "\n",
    "for file in savee_directory_list:\n",
    "    file_path.append(Savee + file)\n",
    "    part = file.split('_')[1]\n",
    "    ele = part[:-6]\n",
    "    if ele=='a':\n",
    "        file_emotion.append('angry')\n",
    "    elif ele=='d':\n",
    "        file_emotion.append('disgust')\n",
    "    elif ele=='f':\n",
    "        file_emotion.append('fear')\n",
    "    elif ele=='h':\n",
    "        file_emotion.append('happy')\n",
    "    elif ele=='n':\n",
    "        file_emotion.append('neutral')\n",
    "    elif ele=='sa':\n",
    "        file_emotion.append('sad')\n",
    "    else:\n",
    "        file_emotion.append('surprise')\n",
    "        \n",
    "\n",
    "emotion_df = pd.DataFrame(file_emotion, columns=['Emotions'])\n",
    "\n",
    "\n",
    "path_df = pd.DataFrame(file_path, columns=['Path'])\n",
    "Savee_df = pd.concat([emotion_df, path_df], axis=1)\n",
    "Savee_df.head()\n",
    "Savee_df.Emotions.value_counts()\n",
    "\n",
    "\"\"\""
   ]
  },
  {
   "cell_type": "code",
   "execution_count": 20,
   "metadata": {
    "id": "nPYf0xKNV1NG"
   },
   "outputs": [],
   "source": [
    "#Load the data and extract features for each sound file\n",
    "def load_data(test_size=0.2):\n",
    "    x,y=[],[]\n",
    "    for file in glob.glob(\"D:/AAA_video_course/Programming/A_main/zzzdatasets/SAVEE/AudioData/Actor_*/*.wav\"):\n",
    "        file_name=os.path.basename(file)\n",
    "        emotion=file_name[0]\n",
    "        if emotion=='a':\n",
    "          e='anger'\n",
    "        if emotion=='d':\n",
    "          e='disgust'\n",
    "        if emotion=='f':\n",
    "          e='fear'\n",
    "        if emotion=='h':\n",
    "          e='happy'\n",
    "        if emotion=='n':\n",
    "          e='neutral'\n",
    "        if emotion=='s':\n",
    "          if file_name[1]=='a':\n",
    "            e='sad'\n",
    "          else:\n",
    "            e='surprise'\n",
    "        feature=extract_feature(file,mfcc=True,chroma=True,mel=True,zcr=True,rmse=True)\n",
    "        x.append(feature)\n",
    "        y.append(e)\n",
    "    return train_test_split(np.array(x), y, test_size=test_size)"
   ]
  },
  {
   "cell_type": "code",
   "execution_count": 21,
   "metadata": {
    "id": "VmfHLM31V5wA"
   },
   "outputs": [],
   "source": [
    "x_train,x_test,y_train,y_test=load_data(test_size=0.2)"
   ]
  },
  {
   "cell_type": "code",
   "execution_count": 22,
   "metadata": {},
   "outputs": [],
   "source": [
    "#Load the data and extract features for each sound file\n",
    "def labels():\n",
    "    y=[];\n",
    "    for file in glob.glob(\"D:/AAA_video_course/Programming/A_main/zzzdatasets/SAVEE/AudioData/Actor*/*.wav\"):\n",
    "        file_name=os.path.basename(file)\n",
    "        emotion=file_name[0]\n",
    "        if emotion=='a':\n",
    "          e='anger'\n",
    "        if emotion=='d':\n",
    "          e='disgust'\n",
    "        if emotion=='f':\n",
    "          e='fear'\n",
    "        if emotion=='h':\n",
    "          e='happy'\n",
    "        if emotion=='n':\n",
    "          e='neutral'\n",
    "        if emotion=='s':\n",
    "          if file_name[1]=='a':\n",
    "            e='sad'\n",
    "          else:\n",
    "            e='surprise'\n",
    "       \n",
    "        y.append(e)\n",
    "    return y"
   ]
  },
  {
   "cell_type": "code",
   "execution_count": 23,
   "metadata": {},
   "outputs": [
    {
     "data": {
      "text/html": [
       "<div><div id=372eb7a8-03fb-4aef-a2dd-a3218ba5daf7 style=\"display:none; background-color:#9D6CFF; color:white; width:200px; height:30px; padding-left:5px; border-radius:4px; flex-direction:row; justify-content:space-around; align-items:center;\" onmouseover=\"this.style.backgroundColor='#BA9BF8'\" onmouseout=\"this.style.backgroundColor='#9D6CFF'\" onclick=\"window.commands?.execute('create-mitosheet-from-dataframe-output');\">See Full Dataframe in Mito</div> <script> if (window.commands.hasCommand('create-mitosheet-from-dataframe-output')) document.getElementById('372eb7a8-03fb-4aef-a2dd-a3218ba5daf7').style.display = 'flex' </script> <table border=\"1\" class=\"dataframe\">\n",
       "  <thead>\n",
       "    <tr style=\"text-align: right;\">\n",
       "      <th></th>\n",
       "      <th>emo</th>\n",
       "    </tr>\n",
       "  </thead>\n",
       "  <tbody>\n",
       "    <tr>\n",
       "      <th>0</th>\n",
       "      <td>anger</td>\n",
       "    </tr>\n",
       "    <tr>\n",
       "      <th>1</th>\n",
       "      <td>anger</td>\n",
       "    </tr>\n",
       "    <tr>\n",
       "      <th>2</th>\n",
       "      <td>anger</td>\n",
       "    </tr>\n",
       "    <tr>\n",
       "      <th>3</th>\n",
       "      <td>anger</td>\n",
       "    </tr>\n",
       "    <tr>\n",
       "      <th>4</th>\n",
       "      <td>anger</td>\n",
       "    </tr>\n",
       "    <tr>\n",
       "      <th>...</th>\n",
       "      <td>...</td>\n",
       "    </tr>\n",
       "    <tr>\n",
       "      <th>475</th>\n",
       "      <td>surprise</td>\n",
       "    </tr>\n",
       "    <tr>\n",
       "      <th>476</th>\n",
       "      <td>surprise</td>\n",
       "    </tr>\n",
       "    <tr>\n",
       "      <th>477</th>\n",
       "      <td>surprise</td>\n",
       "    </tr>\n",
       "    <tr>\n",
       "      <th>478</th>\n",
       "      <td>surprise</td>\n",
       "    </tr>\n",
       "    <tr>\n",
       "      <th>479</th>\n",
       "      <td>surprise</td>\n",
       "    </tr>\n",
       "  </tbody>\n",
       "</table></div>"
      ],
      "text/plain": [
       "          emo\n",
       "0       anger\n",
       "1       anger\n",
       "2       anger\n",
       "3       anger\n",
       "4       anger\n",
       "..        ...\n",
       "475  surprise\n",
       "476  surprise\n",
       "477  surprise\n",
       "478  surprise\n",
       "479  surprise\n",
       "\n",
       "[480 rows x 1 columns]"
      ]
     },
     "execution_count": 23,
     "metadata": {},
     "output_type": "execute_result"
    }
   ],
   "source": [
    "y = labels()\n",
    "df = pd.DataFrame(y, columns =['emo'])\n",
    "df"
   ]
  },
  {
   "cell_type": "code",
   "execution_count": 24,
   "metadata": {},
   "outputs": [],
   "source": [
    "y = labels()\n",
    "y = np.array(y)\n",
    "y = np.unique(y)\n",
    "y.sort()\n",
    "y = list(y)"
   ]
  },
  {
   "cell_type": "code",
   "execution_count": 25,
   "metadata": {},
   "outputs": [
    {
     "data": {
      "text/plain": [
       "[Text(0, 0, '60'),\n",
       " Text(0, 0, '60'),\n",
       " Text(0, 0, '60'),\n",
       " Text(0, 0, '60'),\n",
       " Text(0, 0, '120'),\n",
       " Text(0, 0, '60'),\n",
       " Text(0, 0, '60')]"
      ]
     },
     "execution_count": 25,
     "metadata": {},
     "output_type": "execute_result"
    },
    {
     "data": {
      "image/png": "[encoded data removed]",
      "text/plain": [
       "<Figure size 432x288 with 1 Axes>"
      ]
     },
     "metadata": {
      "needs_background": "light"
     },
     "output_type": "display_data"
    }
   ],
   "source": [
    "import matplotlib.pyplot as plt\n",
    "from matplotlib.pyplot import figure\n",
    "\n",
    "bars = plt.barh(y ,df.groupby('emo').size())\n",
    "plt.bar_label(bars)"
   ]
  },
  {
   "cell_type": "code",
   "execution_count": 26,
   "metadata": {
    "id": "iR5sZyfyYi5h"
   },
   "outputs": [],
   "source": [
    "import librosa\n",
    "%matplotlib inline\n",
    "import matplotlib.pyplot as plt\n",
    "import librosa.display\n",
    "from IPython.display import Audio\n",
    "import numpy as np\n",
    "import tensorflow as tf\n",
    "from matplotlib.pyplot import specgram\n",
    "import pandas as pd\n",
    "from sklearn.metrics import confusion_matrix\n",
    "import IPython.display as ipd  # To play sound in the notebook\n",
    "import os # interface with underlying OS that python is running on\n",
    "import sys\n",
    "import warnings\n",
    "# ignore warnings \n",
    "if not sys.warnoptions:\n",
    "    warnings.simplefilter(\"ignore\")\n",
    "warnings.filterwarnings(\"ignore\", category=DeprecationWarning)\n",
    "from sklearn.model_selection import train_test_split\n",
    "from sklearn.preprocessing import LabelEncoder\n",
    "import tensorflow.keras\n",
    "from tensorflow.keras.models import Sequential\n",
    "from tensorflow.keras.layers import Conv1D, MaxPooling1D, AveragePooling1D\n",
    "from tensorflow.keras.layers import Input, Flatten, Dropout, Activation, BatchNormalization, Dense\n",
    "from tensorflow.keras.wrappers.scikit_learn import KerasClassifier\n",
    "from tensorflow.keras.optimizers import SGD\n",
    "from tensorflow.keras.regularizers import l2\n",
    "import seaborn as sns\n",
    "from tensorflow.keras.utils import to_categorical\n",
    "from sklearn.metrics import classification_report"
   ]
  },
  {
   "cell_type": "code",
   "execution_count": 27,
   "metadata": {
    "id": "9rL4_paAYmdW"
   },
   "outputs": [],
   "source": [
    "y_train=np.array(y_train)\n",
    "y_test=np.array(y_test)"
   ]
  },
  {
   "cell_type": "code",
   "execution_count": 28,
   "metadata": {
    "id": "NCbomPoIYpEN"
   },
   "outputs": [],
   "source": [
    "# ONE HOT ENCODE THE TARGET\n",
    "lb = LabelEncoder()\n",
    "y_train = to_categorical(lb.fit_transform(y_train))\n",
    "y_test = to_categorical(lb.fit_transform(y_test))"
   ]
  },
  {
   "cell_type": "code",
   "execution_count": 29,
   "metadata": {
    "colab": {
     "base_uri": "https://localhost:8080/"
    },
    "id": "wp9j1faNYroF",
    "outputId": "d6bc166a-fc2d-4835-849c-ace610533637"
   },
   "outputs": [
    {
     "data": {
      "text/plain": [
       "(384, 182, 1)"
      ]
     },
     "execution_count": 29,
     "metadata": {},
     "output_type": "execute_result"
    }
   ],
   "source": [
    "# RESHAPE DATA TO INCLUDE 3D TENSOR \n",
    "x_train = x_train[:,:,np.newaxis]\n",
    "x_test = x_test[:,:,np.newaxis]\n",
    "x_train.shape"
   ]
  },
  {
   "cell_type": "code",
   "execution_count": 30,
   "metadata": {
    "colab": {
     "base_uri": "https://localhost:8080/"
    },
    "id": "a6U4ouhXYuae",
    "outputId": "e6d02ecb-2bfc-4c3c-dd71-f30c4c093045"
   },
   "outputs": [
    {
     "name": "stdout",
     "output_type": "stream",
     "text": [
      "Model: \"sequential_1\"\n",
      "_________________________________________________________________\n",
      " Layer (type)                Output Shape              Param #   \n",
      "=================================================================\n",
      " conv1d_3 (Conv1D)           (None, 173, 64)           704       \n",
      "                                                                 \n",
      " conv1d_4 (Conv1D)           (None, 164, 128)          82048     \n",
      "                                                                 \n",
      " max_pooling1d_2 (MaxPooling  (None, 20, 128)          0         \n",
      " 1D)                                                             \n",
      "                                                                 \n",
      " dropout_3 (Dropout)         (None, 20, 128)           0         \n",
      "                                                                 \n",
      " conv1d_5 (Conv1D)           (None, 11, 128)           163968    \n",
      "                                                                 \n",
      " max_pooling1d_3 (MaxPooling  (None, 1, 128)           0         \n",
      " 1D)                                                             \n",
      "                                                                 \n",
      " dropout_4 (Dropout)         (None, 1, 128)            0         \n",
      "                                                                 \n",
      " flatten_1 (Flatten)         (None, 128)               0         \n",
      "                                                                 \n",
      " dense_2 (Dense)             (None, 256)               33024     \n",
      "                                                                 \n",
      " dropout_5 (Dropout)         (None, 256)               0         \n",
      "                                                                 \n",
      " dense_3 (Dense)             (None, 7)                 1799      \n",
      "                                                                 \n",
      "=================================================================\n",
      "Total params: 281,543\n",
      "Trainable params: 281,543\n",
      "Non-trainable params: 0\n",
      "_________________________________________________________________\n"
     ]
    }
   ],
   "source": [
    "import tensorflow as tf\n",
    "from tensorflow import keras\n",
    "from tensorflow.keras import layers\n",
    "from tensorflow.keras.models import Sequential, load_model\n",
    "\n",
    "#BUILD 1D CNN LAYERS\n",
    "model = tf.keras.Sequential()\n",
    "model.add(layers.Conv1D(64, kernel_size=(10), activation='relu', input_shape=(x_train.shape[1],1)))\n",
    "model.add(layers.Conv1D(128, kernel_size=(10),activation='relu',kernel_regularizer=l2(0.01), bias_regularizer=l2(0.01)))\n",
    "model.add(layers.MaxPooling1D(pool_size=(8)))\n",
    "model.add(layers.Dropout(0.4))\n",
    "model.add(layers.Conv1D(128, kernel_size=(10),activation='relu'))\n",
    "model.add(layers.MaxPooling1D(pool_size=(8)))\n",
    "model.add(layers.Dropout(0.4))\n",
    "model.add(layers.Flatten())\n",
    "model.add(layers.Dense(256, activation='relu'))\n",
    "model.add(layers.Dropout(0.5))\n",
    "model.add(layers.Dense(7, activation='sigmoid'))\n",
    "opt = keras.optimizers.Adam(lr=0.001)\n",
    "model.compile(loss='categorical_crossentropy', optimizer=opt,metrics=['accuracy'])\n",
    "model.summary()"
   ]
  },
  {
   "cell_type": "code",
   "execution_count": 31,
   "metadata": {
    "colab": {
     "base_uri": "https://localhost:8080/"
    },
    "id": "f1TQKopaYxIt",
    "outputId": "afa8bc3e-82ea-4c42-cb8c-9c30827c7183"
   },
   "outputs": [
    {
     "name": "stdout",
     "output_type": "stream",
     "text": [
      "Epoch 1/120\n",
      "6/6 [==============================] - 2s 77ms/step - loss: 6.5147 - accuracy: 0.1771 - val_loss: 3.4732 - val_accuracy: 0.2396\n",
      "Epoch 2/120\n",
      "6/6 [==============================] - 0s 45ms/step - loss: 4.2735 - accuracy: 0.2448 - val_loss: 2.7667 - val_accuracy: 0.2396\n",
      "Epoch 3/120\n",
      "6/6 [==============================] - 0s 45ms/step - loss: 3.1880 - accuracy: 0.2786 - val_loss: 2.6359 - val_accuracy: 0.2188\n",
      "Epoch 4/120\n",
      "6/6 [==============================] - 0s 46ms/step - loss: 2.7304 - accuracy: 0.3203 - val_loss: 2.6284 - val_accuracy: 0.2812\n",
      "Epoch 5/120\n",
      "6/6 [==============================] - 0s 45ms/step - loss: 2.6928 - accuracy: 0.3203 - val_loss: 2.6056 - val_accuracy: 0.2708\n",
      "Epoch 6/120\n",
      "6/6 [==============================] - 0s 45ms/step - loss: 2.5674 - accuracy: 0.3333 - val_loss: 2.5869 - val_accuracy: 0.2396\n",
      "Epoch 7/120\n",
      "6/6 [==============================] - 0s 45ms/step - loss: 2.4992 - accuracy: 0.3620 - val_loss: 2.5432 - val_accuracy: 0.2604\n",
      "Epoch 8/120\n",
      "6/6 [==============================] - 0s 45ms/step - loss: 2.4305 - accuracy: 0.3385 - val_loss: 2.5143 - val_accuracy: 0.2500\n",
      "Epoch 9/120\n",
      "6/6 [==============================] - 0s 44ms/step - loss: 2.3975 - accuracy: 0.3672 - val_loss: 2.4661 - val_accuracy: 0.3021\n",
      "Epoch 10/120\n",
      "6/6 [==============================] - 0s 45ms/step - loss: 2.4042 - accuracy: 0.3464 - val_loss: 2.4040 - val_accuracy: 0.2708\n",
      "Epoch 11/120\n",
      "6/6 [==============================] - 0s 45ms/step - loss: 2.2608 - accuracy: 0.4062 - val_loss: 2.3502 - val_accuracy: 0.2812\n",
      "Epoch 12/120\n",
      "6/6 [==============================] - 0s 46ms/step - loss: 2.2515 - accuracy: 0.3724 - val_loss: 2.3216 - val_accuracy: 0.3021\n",
      "Epoch 13/120\n",
      "6/6 [==============================] - 0s 46ms/step - loss: 2.2277 - accuracy: 0.3906 - val_loss: 2.2630 - val_accuracy: 0.3438\n",
      "Epoch 14/120\n",
      "6/6 [==============================] - 0s 45ms/step - loss: 2.1759 - accuracy: 0.4089 - val_loss: 2.2411 - val_accuracy: 0.3021\n",
      "Epoch 15/120\n",
      "6/6 [==============================] - 0s 46ms/step - loss: 2.1502 - accuracy: 0.4141 - val_loss: 2.1958 - val_accuracy: 0.3125\n",
      "Epoch 16/120\n",
      "6/6 [==============================] - 0s 46ms/step - loss: 2.1199 - accuracy: 0.4089 - val_loss: 2.1539 - val_accuracy: 0.3333\n",
      "Epoch 17/120\n",
      "6/6 [==============================] - 0s 45ms/step - loss: 2.0515 - accuracy: 0.4401 - val_loss: 2.1182 - val_accuracy: 0.3958\n",
      "Epoch 18/120\n",
      "6/6 [==============================] - 0s 46ms/step - loss: 2.0688 - accuracy: 0.4141 - val_loss: 2.0860 - val_accuracy: 0.3333\n",
      "Epoch 19/120\n",
      "6/6 [==============================] - 0s 45ms/step - loss: 2.0718 - accuracy: 0.4401 - val_loss: 2.1093 - val_accuracy: 0.3333\n",
      "Epoch 20/120\n",
      "6/6 [==============================] - 0s 44ms/step - loss: 2.0052 - accuracy: 0.4115 - val_loss: 2.0298 - val_accuracy: 0.3333\n",
      "Epoch 21/120\n",
      "6/6 [==============================] - 0s 46ms/step - loss: 1.9724 - accuracy: 0.4427 - val_loss: 2.0691 - val_accuracy: 0.3125\n",
      "Epoch 22/120\n",
      "6/6 [==============================] - 0s 45ms/step - loss: 1.9905 - accuracy: 0.4245 - val_loss: 2.0053 - val_accuracy: 0.3854\n",
      "Epoch 23/120\n",
      "6/6 [==============================] - 0s 46ms/step - loss: 1.9681 - accuracy: 0.4115 - val_loss: 2.0004 - val_accuracy: 0.3750\n",
      "Epoch 24/120\n",
      "6/6 [==============================] - 0s 45ms/step - loss: 1.9313 - accuracy: 0.4062 - val_loss: 1.9829 - val_accuracy: 0.3750\n",
      "Epoch 25/120\n",
      "6/6 [==============================] - 0s 45ms/step - loss: 1.9175 - accuracy: 0.4141 - val_loss: 1.9523 - val_accuracy: 0.3646\n",
      "Epoch 26/120\n",
      "6/6 [==============================] - 0s 46ms/step - loss: 1.8615 - accuracy: 0.4401 - val_loss: 1.9375 - val_accuracy: 0.3333\n",
      "Epoch 27/120\n",
      "6/6 [==============================] - 0s 45ms/step - loss: 1.8072 - accuracy: 0.4870 - val_loss: 1.8870 - val_accuracy: 0.3542\n",
      "Epoch 28/120\n",
      "6/6 [==============================] - 0s 46ms/step - loss: 1.7919 - accuracy: 0.4635 - val_loss: 1.8278 - val_accuracy: 0.3854\n",
      "Epoch 29/120\n",
      "6/6 [==============================] - 0s 45ms/step - loss: 1.7927 - accuracy: 0.4714 - val_loss: 1.8211 - val_accuracy: 0.4167\n",
      "Epoch 30/120\n",
      "6/6 [==============================] - 0s 46ms/step - loss: 1.7961 - accuracy: 0.5052 - val_loss: 1.7766 - val_accuracy: 0.4479\n",
      "Epoch 31/120\n",
      "6/6 [==============================] - 0s 46ms/step - loss: 1.7552 - accuracy: 0.4740 - val_loss: 1.7628 - val_accuracy: 0.4583\n",
      "Epoch 32/120\n",
      "6/6 [==============================] - 0s 46ms/step - loss: 1.7182 - accuracy: 0.5026 - val_loss: 1.7730 - val_accuracy: 0.4167\n",
      "Epoch 33/120\n",
      "6/6 [==============================] - 0s 44ms/step - loss: 1.7021 - accuracy: 0.4922 - val_loss: 1.7426 - val_accuracy: 0.4167\n",
      "Epoch 34/120\n",
      "6/6 [==============================] - 0s 45ms/step - loss: 1.6321 - accuracy: 0.5078 - val_loss: 1.7440 - val_accuracy: 0.4375\n",
      "Epoch 35/120\n",
      "6/6 [==============================] - 0s 46ms/step - loss: 1.6469 - accuracy: 0.5182 - val_loss: 1.6530 - val_accuracy: 0.4583\n",
      "Epoch 36/120\n",
      "6/6 [==============================] - 0s 46ms/step - loss: 1.6207 - accuracy: 0.5312 - val_loss: 1.7066 - val_accuracy: 0.4479\n",
      "Epoch 37/120\n",
      "6/6 [==============================] - 0s 45ms/step - loss: 1.5993 - accuracy: 0.5208 - val_loss: 1.6479 - val_accuracy: 0.4583\n",
      "Epoch 38/120\n",
      "6/6 [==============================] - 0s 45ms/step - loss: 1.6177 - accuracy: 0.5339 - val_loss: 1.6458 - val_accuracy: 0.4688\n",
      "Epoch 39/120\n",
      "6/6 [==============================] - 0s 46ms/step - loss: 1.5777 - accuracy: 0.5312 - val_loss: 1.6581 - val_accuracy: 0.4688\n",
      "Epoch 40/120\n",
      "6/6 [==============================] - 0s 46ms/step - loss: 1.5812 - accuracy: 0.5312 - val_loss: 1.6025 - val_accuracy: 0.5208\n",
      "Epoch 41/120\n",
      "6/6 [==============================] - 0s 45ms/step - loss: 1.5741 - accuracy: 0.5573 - val_loss: 1.5970 - val_accuracy: 0.4792\n",
      "Epoch 42/120\n",
      "6/6 [==============================] - 0s 46ms/step - loss: 1.5176 - accuracy: 0.5339 - val_loss: 1.5975 - val_accuracy: 0.4375\n",
      "Epoch 43/120\n",
      "6/6 [==============================] - 0s 44ms/step - loss: 1.5389 - accuracy: 0.5234 - val_loss: 1.5665 - val_accuracy: 0.4479\n",
      "Epoch 44/120\n",
      "6/6 [==============================] - 0s 46ms/step - loss: 1.4734 - accuracy: 0.5703 - val_loss: 1.5288 - val_accuracy: 0.4896\n",
      "Epoch 45/120\n",
      "6/6 [==============================] - 0s 46ms/step - loss: 1.4353 - accuracy: 0.5938 - val_loss: 1.5256 - val_accuracy: 0.4375\n",
      "Epoch 46/120\n",
      "6/6 [==============================] - 0s 45ms/step - loss: 1.4748 - accuracy: 0.5469 - val_loss: 1.4982 - val_accuracy: 0.5208\n",
      "Epoch 47/120\n",
      "6/6 [==============================] - 0s 46ms/step - loss: 1.4080 - accuracy: 0.5964 - val_loss: 1.5004 - val_accuracy: 0.5104\n",
      "Epoch 48/120\n",
      "6/6 [==============================] - 0s 46ms/step - loss: 1.4444 - accuracy: 0.5755 - val_loss: 1.4887 - val_accuracy: 0.5000\n",
      "Epoch 49/120\n",
      "6/6 [==============================] - 0s 45ms/step - loss: 1.4669 - accuracy: 0.5573 - val_loss: 1.5054 - val_accuracy: 0.4792\n",
      "Epoch 50/120\n",
      "6/6 [==============================] - 0s 49ms/step - loss: 1.4063 - accuracy: 0.5729 - val_loss: 1.4840 - val_accuracy: 0.4792\n",
      "Epoch 51/120\n",
      "6/6 [==============================] - 0s 50ms/step - loss: 1.3476 - accuracy: 0.6146 - val_loss: 1.4834 - val_accuracy: 0.4792\n",
      "Epoch 52/120\n",
      "6/6 [==============================] - 0s 46ms/step - loss: 1.3884 - accuracy: 0.5781 - val_loss: 1.4694 - val_accuracy: 0.4896\n",
      "Epoch 53/120\n",
      "6/6 [==============================] - 0s 50ms/step - loss: 1.3573 - accuracy: 0.5859 - val_loss: 1.4554 - val_accuracy: 0.5521\n",
      "Epoch 54/120\n",
      "6/6 [==============================] - 0s 48ms/step - loss: 1.3534 - accuracy: 0.5938 - val_loss: 1.4293 - val_accuracy: 0.5312\n",
      "Epoch 55/120\n",
      "6/6 [==============================] - 0s 45ms/step - loss: 1.3322 - accuracy: 0.5911 - val_loss: 1.4534 - val_accuracy: 0.4792\n",
      "Epoch 56/120\n",
      "6/6 [==============================] - 0s 48ms/step - loss: 1.2965 - accuracy: 0.6276 - val_loss: 1.4339 - val_accuracy: 0.5104\n",
      "Epoch 57/120\n",
      "6/6 [==============================] - 0s 48ms/step - loss: 1.3497 - accuracy: 0.6068 - val_loss: 1.3980 - val_accuracy: 0.5104\n",
      "Epoch 58/120\n",
      "6/6 [==============================] - 0s 52ms/step - loss: 1.3203 - accuracy: 0.5964 - val_loss: 1.3884 - val_accuracy: 0.5417\n",
      "Epoch 59/120\n",
      "6/6 [==============================] - 0s 49ms/step - loss: 1.3387 - accuracy: 0.6042 - val_loss: 1.4218 - val_accuracy: 0.5104\n",
      "Epoch 60/120\n",
      "6/6 [==============================] - 0s 44ms/step - loss: 1.2577 - accuracy: 0.6172 - val_loss: 1.4000 - val_accuracy: 0.5104\n",
      "Epoch 61/120\n",
      "6/6 [==============================] - 0s 45ms/step - loss: 1.2285 - accuracy: 0.6302 - val_loss: 1.3681 - val_accuracy: 0.5417\n",
      "Epoch 62/120\n",
      "6/6 [==============================] - 0s 48ms/step - loss: 1.2746 - accuracy: 0.6146 - val_loss: 1.3727 - val_accuracy: 0.5833\n",
      "Epoch 63/120\n",
      "6/6 [==============================] - 0s 49ms/step - loss: 1.2697 - accuracy: 0.6302 - val_loss: 1.4083 - val_accuracy: 0.4896\n",
      "Epoch 64/120\n",
      "6/6 [==============================] - 0s 48ms/step - loss: 1.1643 - accuracy: 0.6589 - val_loss: 1.3443 - val_accuracy: 0.5833\n",
      "Epoch 65/120\n",
      "6/6 [==============================] - 0s 47ms/step - loss: 1.1709 - accuracy: 0.6589 - val_loss: 1.3442 - val_accuracy: 0.5521\n",
      "Epoch 66/120\n",
      "6/6 [==============================] - 0s 49ms/step - loss: 1.2522 - accuracy: 0.5964 - val_loss: 1.3043 - val_accuracy: 0.5729\n",
      "Epoch 67/120\n",
      "6/6 [==============================] - 0s 44ms/step - loss: 1.1497 - accuracy: 0.6380 - val_loss: 1.3288 - val_accuracy: 0.5521\n",
      "Epoch 68/120\n",
      "6/6 [==============================] - 0s 48ms/step - loss: 1.1848 - accuracy: 0.6406 - val_loss: 1.3561 - val_accuracy: 0.5729\n",
      "Epoch 69/120\n",
      "6/6 [==============================] - 0s 47ms/step - loss: 1.1660 - accuracy: 0.6458 - val_loss: 1.3058 - val_accuracy: 0.5729\n",
      "Epoch 70/120\n",
      "6/6 [==============================] - 0s 48ms/step - loss: 1.1449 - accuracy: 0.6380 - val_loss: 1.3572 - val_accuracy: 0.5417\n",
      "Epoch 71/120\n",
      "6/6 [==============================] - 0s 46ms/step - loss: 1.1334 - accuracy: 0.6458 - val_loss: 1.3265 - val_accuracy: 0.5938\n",
      "Epoch 72/120\n",
      "6/6 [==============================] - 0s 48ms/step - loss: 1.1780 - accuracy: 0.6667 - val_loss: 1.3518 - val_accuracy: 0.5417\n",
      "Epoch 73/120\n",
      "6/6 [==============================] - 0s 47ms/step - loss: 1.0933 - accuracy: 0.6823 - val_loss: 1.3252 - val_accuracy: 0.5625\n",
      "Epoch 74/120\n",
      "6/6 [==============================] - 0s 47ms/step - loss: 1.1333 - accuracy: 0.6510 - val_loss: 1.3063 - val_accuracy: 0.5521\n",
      "Epoch 75/120\n",
      "6/6 [==============================] - 0s 49ms/step - loss: 1.0880 - accuracy: 0.6641 - val_loss: 1.2526 - val_accuracy: 0.6042\n",
      "Epoch 76/120\n",
      "6/6 [==============================] - 0s 48ms/step - loss: 1.0736 - accuracy: 0.6589 - val_loss: 1.2906 - val_accuracy: 0.5521\n",
      "Epoch 77/120\n",
      "6/6 [==============================] - 0s 47ms/step - loss: 1.0325 - accuracy: 0.7135 - val_loss: 1.2619 - val_accuracy: 0.5938\n",
      "Epoch 78/120\n",
      "6/6 [==============================] - 0s 48ms/step - loss: 1.0619 - accuracy: 0.6719 - val_loss: 1.2966 - val_accuracy: 0.5729\n",
      "Epoch 79/120\n",
      "6/6 [==============================] - 0s 45ms/step - loss: 1.0651 - accuracy: 0.6953 - val_loss: 1.3204 - val_accuracy: 0.5417\n",
      "Epoch 80/120\n",
      "6/6 [==============================] - 0s 46ms/step - loss: 1.0595 - accuracy: 0.6615 - val_loss: 1.2441 - val_accuracy: 0.6042\n",
      "Epoch 81/120\n",
      "6/6 [==============================] - 0s 48ms/step - loss: 1.0603 - accuracy: 0.6901 - val_loss: 1.2767 - val_accuracy: 0.5938\n",
      "Epoch 82/120\n",
      "6/6 [==============================] - 0s 45ms/step - loss: 0.9860 - accuracy: 0.7344 - val_loss: 1.2653 - val_accuracy: 0.6042\n",
      "Epoch 83/120\n",
      "6/6 [==============================] - 0s 49ms/step - loss: 1.0022 - accuracy: 0.7188 - val_loss: 1.2588 - val_accuracy: 0.5729\n",
      "Epoch 84/120\n",
      "6/6 [==============================] - 0s 46ms/step - loss: 1.0487 - accuracy: 0.6927 - val_loss: 1.2781 - val_accuracy: 0.5521\n",
      "Epoch 85/120\n",
      "6/6 [==============================] - 0s 49ms/step - loss: 0.9928 - accuracy: 0.7109 - val_loss: 1.2876 - val_accuracy: 0.5833\n",
      "Epoch 86/120\n",
      "6/6 [==============================] - 0s 46ms/step - loss: 0.9825 - accuracy: 0.7109 - val_loss: 1.1853 - val_accuracy: 0.6250\n",
      "Epoch 87/120\n",
      "6/6 [==============================] - 0s 46ms/step - loss: 1.0227 - accuracy: 0.6953 - val_loss: 1.2665 - val_accuracy: 0.5521\n",
      "Epoch 88/120\n",
      "6/6 [==============================] - 0s 48ms/step - loss: 1.0432 - accuracy: 0.7005 - val_loss: 1.2929 - val_accuracy: 0.5833\n",
      "Epoch 89/120\n",
      "6/6 [==============================] - 0s 45ms/step - loss: 0.9686 - accuracy: 0.7344 - val_loss: 1.2335 - val_accuracy: 0.6250\n",
      "Epoch 90/120\n",
      "6/6 [==============================] - 0s 49ms/step - loss: 0.9562 - accuracy: 0.7188 - val_loss: 1.2911 - val_accuracy: 0.5417\n",
      "Epoch 91/120\n",
      "6/6 [==============================] - 0s 46ms/step - loss: 0.9602 - accuracy: 0.6979 - val_loss: 1.2192 - val_accuracy: 0.6042\n",
      "Epoch 92/120\n",
      "6/6 [==============================] - 0s 49ms/step - loss: 0.9487 - accuracy: 0.7396 - val_loss: 1.3057 - val_accuracy: 0.5938\n",
      "Epoch 93/120\n",
      "6/6 [==============================] - 0s 45ms/step - loss: 0.9333 - accuracy: 0.7266 - val_loss: 1.2620 - val_accuracy: 0.5625\n",
      "Epoch 94/120\n",
      "6/6 [==============================] - 0s 49ms/step - loss: 0.9479 - accuracy: 0.7240 - val_loss: 1.1795 - val_accuracy: 0.6354\n",
      "Epoch 95/120\n",
      "6/6 [==============================] - 0s 48ms/step - loss: 1.0156 - accuracy: 0.6953 - val_loss: 1.2628 - val_accuracy: 0.6146\n",
      "Epoch 96/120\n",
      "6/6 [==============================] - 0s 45ms/step - loss: 0.9172 - accuracy: 0.7474 - val_loss: 1.2213 - val_accuracy: 0.6146\n",
      "Epoch 97/120\n",
      "6/6 [==============================] - 0s 45ms/step - loss: 0.9119 - accuracy: 0.7266 - val_loss: 1.1391 - val_accuracy: 0.6458\n",
      "Epoch 98/120\n",
      "6/6 [==============================] - 0s 49ms/step - loss: 0.8680 - accuracy: 0.7604 - val_loss: 1.1772 - val_accuracy: 0.6146\n",
      "Epoch 99/120\n",
      "6/6 [==============================] - 0s 45ms/step - loss: 0.9316 - accuracy: 0.7474 - val_loss: 1.1871 - val_accuracy: 0.6146\n",
      "Epoch 100/120\n",
      "6/6 [==============================] - 0s 45ms/step - loss: 0.8882 - accuracy: 0.7500 - val_loss: 1.1849 - val_accuracy: 0.5938\n",
      "Epoch 101/120\n",
      "6/6 [==============================] - 0s 50ms/step - loss: 0.9193 - accuracy: 0.7266 - val_loss: 1.1646 - val_accuracy: 0.6042\n",
      "Epoch 102/120\n",
      "6/6 [==============================] - 0s 45ms/step - loss: 0.9294 - accuracy: 0.7292 - val_loss: 1.3120 - val_accuracy: 0.5729\n",
      "Epoch 103/120\n",
      "6/6 [==============================] - 0s 48ms/step - loss: 0.9332 - accuracy: 0.7630 - val_loss: 1.2579 - val_accuracy: 0.5625\n",
      "Epoch 104/120\n",
      "6/6 [==============================] - 0s 46ms/step - loss: 0.9199 - accuracy: 0.7422 - val_loss: 1.2369 - val_accuracy: 0.6042\n",
      "Epoch 105/120\n",
      "6/6 [==============================] - 0s 46ms/step - loss: 0.8983 - accuracy: 0.7266 - val_loss: 1.2751 - val_accuracy: 0.6250\n",
      "Epoch 106/120\n",
      "6/6 [==============================] - 0s 49ms/step - loss: 0.8453 - accuracy: 0.7552 - val_loss: 1.2596 - val_accuracy: 0.5208\n",
      "Epoch 107/120\n",
      "6/6 [==============================] - 0s 44ms/step - loss: 0.8674 - accuracy: 0.7448 - val_loss: 1.1759 - val_accuracy: 0.6042\n",
      "Epoch 108/120\n",
      "6/6 [==============================] - 0s 48ms/step - loss: 0.8040 - accuracy: 0.7865 - val_loss: 1.1241 - val_accuracy: 0.5938\n",
      "Epoch 109/120\n",
      "6/6 [==============================] - 0s 47ms/step - loss: 0.8242 - accuracy: 0.7786 - val_loss: 1.1495 - val_accuracy: 0.6250\n",
      "Epoch 110/120\n",
      "6/6 [==============================] - 0s 46ms/step - loss: 0.7729 - accuracy: 0.7865 - val_loss: 1.1047 - val_accuracy: 0.6146\n",
      "Epoch 111/120\n",
      "6/6 [==============================] - 0s 49ms/step - loss: 0.8222 - accuracy: 0.7604 - val_loss: 1.1302 - val_accuracy: 0.6146\n",
      "Epoch 112/120\n",
      "6/6 [==============================] - 0s 45ms/step - loss: 0.7603 - accuracy: 0.8099 - val_loss: 1.0841 - val_accuracy: 0.6354\n",
      "Epoch 113/120\n",
      "6/6 [==============================] - 0s 49ms/step - loss: 0.7307 - accuracy: 0.8099 - val_loss: 1.1037 - val_accuracy: 0.6250\n",
      "Epoch 114/120\n",
      "6/6 [==============================] - 0s 45ms/step - loss: 0.7663 - accuracy: 0.7969 - val_loss: 1.1524 - val_accuracy: 0.6250\n",
      "Epoch 115/120\n",
      "6/6 [==============================] - 0s 46ms/step - loss: 0.7602 - accuracy: 0.8125 - val_loss: 1.1181 - val_accuracy: 0.6146\n",
      "Epoch 116/120\n",
      "6/6 [==============================] - 0s 48ms/step - loss: 0.7345 - accuracy: 0.7760 - val_loss: 1.2061 - val_accuracy: 0.5938\n",
      "Epoch 117/120\n"
     ]
    },
    {
     "name": "stdout",
     "output_type": "stream",
     "text": [
      "6/6 [==============================] - 0s 44ms/step - loss: 0.7227 - accuracy: 0.7995 - val_loss: 1.1273 - val_accuracy: 0.6354\n",
      "Epoch 118/120\n",
      "6/6 [==============================] - 0s 46ms/step - loss: 0.7603 - accuracy: 0.7917 - val_loss: 1.1538 - val_accuracy: 0.5625\n",
      "Epoch 119/120\n",
      "6/6 [==============================] - 0s 47ms/step - loss: 0.7115 - accuracy: 0.8073 - val_loss: 1.1304 - val_accuracy: 0.6146\n",
      "Epoch 120/120\n",
      "6/6 [==============================] - 0s 47ms/step - loss: 0.7606 - accuracy: 0.7943 - val_loss: 1.0777 - val_accuracy: 0.6250\n"
     ]
    }
   ],
   "source": [
    "import tensorflow.keras as keras\n",
    "model_history=model.fit(x_train, y_train,batch_size=64, epochs=120, validation_data=(x_test, y_test))"
   ]
  },
  {
   "cell_type": "code",
   "execution_count": 32,
   "metadata": {
    "colab": {
     "base_uri": "https://localhost:8080/"
    },
    "id": "oFltxu8DZlwm",
    "outputId": "4db376b8-b697-4ed0-c20b-6c20353aa1db"
   },
   "outputs": [
    {
     "name": "stdout",
     "output_type": "stream",
     "text": [
      "3/3 [==============================] - 0s 19ms/step - loss: 1.0777 - accuracy: 0.6250\n",
      "Loss of the model is -  1.077724814414978\n",
      "3/3 [==============================] - 0s 18ms/step - loss: 1.0777 - accuracy: 0.6250\n",
      "Accuracy of the model is -  62.5 %\n"
     ]
    }
   ],
   "source": [
    "# PRINT LOSS AND ACCURACY PERCENTAGE ON TEST SET\n",
    "print(\"Loss of the model is - \" , model.evaluate(x_test,y_test)[0])\n",
    "print(\"Accuracy of the model is - \" , model.evaluate(x_test,y_test)[1]*100 , \"%\")"
   ]
  },
  {
   "cell_type": "code",
   "execution_count": 33,
   "metadata": {
    "colab": {
     "base_uri": "https://localhost:8080/",
     "height": 630
    },
    "id": "F4abqQKUZqqL",
    "outputId": "7bc94252-7518-4973-91b4-0e163d8571ec"
   },
   "outputs": [
    {
     "data": {
      "image/png": "[encoded data removed]",
      "text/plain": [
       "<Figure size 864x720 with 2 Axes>"
      ]
     },
     "metadata": {
      "needs_background": "light"
     },
     "output_type": "display_data"
    }
   ],
   "source": [
    "predictions = model.predict(x_test)\n",
    "predictions = predictions.argmax(axis=1)\n",
    "predictions = predictions.astype(int).flatten()\n",
    "predictions = (lb.inverse_transform((predictions)))\n",
    "actual = y_test.argmax(axis=1)\n",
    "actual = actual.astype(int).flatten()\n",
    "actual = (lb.inverse_transform((actual)))\n",
    "cm = confusion_matrix(actual, predictions,normalize='true')\n",
    "plt.figure(figsize = (12, 10))\n",
    "#conf_matrix= pd.DataFrame(cm,columns=None)\n",
    "#conf_matrix.to_csv(r'E:\\confusion_matrix.csv', index = False, header=False)\n",
    "ax = sns.heatmap(np.round(cm*100), linecolor='white', cmap='Blues', linewidth=1, annot=True, fmt='')\n",
    "bottom, top = ax.get_ylim()\n",
    "ax.set_ylim(bottom + 0.5, top - 0.5)\n",
    "plt.title('Confusion Matrix', size=20)\n",
    "plt.xlabel('Predicted Labels', size=14)\n",
    "plt.ylabel('Actual Labels', size=14)\n",
    "plt.savefig('Initial_Model_Confusion_Matrix.png')\n",
    "plt.show()"
   ]
  },
  {
   "cell_type": "code",
   "execution_count": 34,
   "metadata": {
    "colab": {
     "base_uri": "https://localhost:8080/"
    },
    "id": "-HKdLN1FZwDy",
    "outputId": "b4120f49-6c5d-4fc0-f96d-a4483614ed25"
   },
   "outputs": [
    {
     "name": "stdout",
     "output_type": "stream",
     "text": [
      "              precision    recall  f1-score   support\n",
      "\n",
      "       anger       0.89      0.50      0.64        16\n",
      "     disgust       0.75      0.75      0.75        12\n",
      "        fear       0.75      0.56      0.64        16\n",
      "       happy       0.52      0.65      0.58        17\n",
      "     neutral       0.58      0.85      0.69        13\n",
      "         sad       0.83      0.42      0.56        12\n",
      "    surprise       0.41      0.70      0.52        10\n",
      "\n",
      "    accuracy                           0.62        96\n",
      "   macro avg       0.68      0.63      0.62        96\n",
      "weighted avg       0.69      0.62      0.63        96\n",
      "\n"
     ]
    }
   ],
   "source": [
    "print(classification_report(actual, predictions, target_names = ['anger','disgust','fear','happy','neutral','sad','surprise']))"
   ]
  },
  {
   "cell_type": "code",
   "execution_count": 35,
   "metadata": {
    "colab": {
     "base_uri": "https://localhost:8080/"
    },
    "id": "mMSz7MaTaNQB",
    "outputId": "18e4ecb9-8be2-4833-8790-6f929b797efd"
   },
   "outputs": [
    {
     "name": "stdout",
     "output_type": "stream",
     "text": [
      "0.9375905802805461\n",
      "0.8935755270562954\n"
     ]
    }
   ],
   "source": [
    "from imblearn.metrics import specificity_score\n",
    "s=specificity_score(actual,predictions,average='macro')\n",
    "print(s)\n",
    "from sklearn.metrics import roc_auc_score\n",
    "y_score=model.predict(x_test)\n",
    "auc=roc_auc_score(y_test, y_score, average='macro',multi_class='ovo')\n",
    "print(auc)"
   ]
  },
  {
   "cell_type": "code",
   "execution_count": 36,
   "metadata": {
    "colab": {
     "base_uri": "https://localhost:8080/"
    },
    "id": "LJuklJK3aUIx",
    "outputId": "e8258cea-b5f7-4572-d33a-39eebe65cad3"
   },
   "outputs": [
    {
     "name": "stdout",
     "output_type": "stream",
     "text": [
      "0.6766776886193073 0.6317684766214178 0.6247683693360385\n"
     ]
    }
   ],
   "source": [
    "from sklearn.metrics import precision_score\n",
    "from sklearn.metrics import recall_score\n",
    "from sklearn.metrics import f1_score\n",
    "p=precision_score(actual,predictions,average='macro')\n",
    "r=recall_score(actual,predictions,average='macro')\n",
    "f=f1_score(actual,predictions,average='macro')\n",
    "print(p,r,f)"
   ]
  },
  {
   "cell_type": "code",
   "execution_count": 37,
   "metadata": {
    "colab": {
     "base_uri": "https://localhost:8080/"
    },
    "id": "yOh1RNSKaWfR",
    "outputId": "8b6e870c-fb80-4c96-ff72-c5dc47aa1410"
   },
   "outputs": [
    {
     "name": "stdout",
     "output_type": "stream",
     "text": [
      "[0.5        0.75       0.5625     0.64705882 0.84615385 0.41666667\n",
      " 0.7       ]\n",
      "[0.00980392 0.03712607 0.03688725 0.12013889 0.11111111 0.01282051\n",
      " 0.10171569]\n"
     ]
    }
   ],
   "source": [
    "FP = cm.sum(axis=0) - np.diag(cm)  \n",
    "FN = cm.sum(axis=1) - np.diag(cm)\n",
    "TP = np.diag(cm)\n",
    "TN = cm.sum() - (FP + FN + TP)\n",
    "\n",
    "FP = FP.astype(float)\n",
    "FN = FN.astype(float)\n",
    "TP = TP.astype(float)\n",
    "TN = TN.astype(float)\n",
    "\n",
    "# Sensitivity, hit rate, recall, or true positive rate\n",
    "TPR = TP/(TP+FN)\n",
    "# Fall out or false positive rate\n",
    "FPR = FP/(FP+TN)\n",
    "print(TPR)\n",
    "print(FPR)"
   ]
  },
  {
   "cell_type": "code",
   "execution_count": 38,
   "metadata": {
    "id": "_alY8_xLaZdS"
   },
   "outputs": [],
   "source": [
    "l=[]\n",
    "for i in range(100):\n",
    "  l.append(i+1)"
   ]
  },
  {
   "cell_type": "code",
   "execution_count": 39,
   "metadata": {
    "colab": {
     "base_uri": "https://localhost:8080/"
    },
    "id": "Y03PC7ymab6I",
    "outputId": "4fcaabef-360f-4672-f4d0-7a235dd3532d"
   },
   "outputs": [
    {
     "ename": "ValueError",
     "evalue": "All arrays must be of the same length",
     "output_type": "error",
     "traceback": [
      "\u001b[1;31m---------------------------------------------------------------------------\u001b[0m",
      "\u001b[1;31mValueError\u001b[0m                                Traceback (most recent call last)",
      "\u001b[1;32m<ipython-input-39-546da305a563>\u001b[0m in \u001b[0;36m<module>\u001b[1;34m\u001b[0m\n\u001b[0;32m      5\u001b[0m     \u001b[1;34m'loss train'\u001b[0m\u001b[1;33m:\u001b[0m\u001b[0mmodel_history\u001b[0m\u001b[1;33m.\u001b[0m\u001b[0mhistory\u001b[0m\u001b[1;33m[\u001b[0m\u001b[1;34m'loss'\u001b[0m\u001b[1;33m]\u001b[0m\u001b[1;33m,\u001b[0m\u001b[1;33m\u001b[0m\u001b[1;33m\u001b[0m\u001b[0m\n\u001b[0;32m      6\u001b[0m     'loss val':model_history.history['val_loss']}\n\u001b[1;32m----> 7\u001b[1;33m \u001b[0mdf\u001b[0m \u001b[1;33m=\u001b[0m \u001b[0mDataFrame\u001b[0m\u001b[1;33m(\u001b[0m\u001b[0mC\u001b[0m\u001b[1;33m,\u001b[0m \u001b[0mcolumns\u001b[0m\u001b[1;33m=\u001b[0m \u001b[1;33m[\u001b[0m\u001b[1;34m'epoch no'\u001b[0m\u001b[1;33m,\u001b[0m\u001b[1;34m'acc train'\u001b[0m\u001b[1;33m,\u001b[0m\u001b[1;34m'acc val'\u001b[0m\u001b[1;33m,\u001b[0m\u001b[1;34m'loss train'\u001b[0m\u001b[1;33m,\u001b[0m\u001b[1;34m'loss val'\u001b[0m\u001b[1;33m]\u001b[0m\u001b[1;33m)\u001b[0m\u001b[1;33m\u001b[0m\u001b[1;33m\u001b[0m\u001b[0m\n\u001b[0m\u001b[0;32m      8\u001b[0m \u001b[0mexport_csv\u001b[0m \u001b[1;33m=\u001b[0m \u001b[0mdf\u001b[0m\u001b[1;33m.\u001b[0m\u001b[0mto_csv\u001b[0m \u001b[1;33m(\u001b[0m\u001b[1;34mr'E:\\result1.csv'\u001b[0m\u001b[1;33m,\u001b[0m \u001b[0mindex\u001b[0m \u001b[1;33m=\u001b[0m \u001b[1;32mNone\u001b[0m\u001b[1;33m,\u001b[0m \u001b[0mheader\u001b[0m\u001b[1;33m=\u001b[0m\u001b[1;32mTrue\u001b[0m\u001b[1;33m)\u001b[0m\u001b[1;33m\u001b[0m\u001b[1;33m\u001b[0m\u001b[0m\n\u001b[0;32m      9\u001b[0m \u001b[0mprint\u001b[0m \u001b[1;33m(\u001b[0m\u001b[0mdf\u001b[0m\u001b[1;33m)\u001b[0m\u001b[1;33m\u001b[0m\u001b[1;33m\u001b[0m\u001b[0m\n",
      "\u001b[1;32m~\\AppData\\Roaming\\Python\\Python38\\site-packages\\pandas\\core\\frame.py\u001b[0m in \u001b[0;36m__init__\u001b[1;34m(self, data, index, columns, dtype, copy)\u001b[0m\n\u001b[0;32m    612\u001b[0m         \u001b[1;32melif\u001b[0m \u001b[0misinstance\u001b[0m\u001b[1;33m(\u001b[0m\u001b[0mdata\u001b[0m\u001b[1;33m,\u001b[0m \u001b[0mdict\u001b[0m\u001b[1;33m)\u001b[0m\u001b[1;33m:\u001b[0m\u001b[1;33m\u001b[0m\u001b[1;33m\u001b[0m\u001b[0m\n\u001b[0;32m    613\u001b[0m             \u001b[1;31m# GH#38939 de facto copy defaults to False only in non-dict cases\u001b[0m\u001b[1;33m\u001b[0m\u001b[1;33m\u001b[0m\u001b[1;33m\u001b[0m\u001b[0m\n\u001b[1;32m--> 614\u001b[1;33m             \u001b[0mmgr\u001b[0m \u001b[1;33m=\u001b[0m \u001b[0mdict_to_mgr\u001b[0m\u001b[1;33m(\u001b[0m\u001b[0mdata\u001b[0m\u001b[1;33m,\u001b[0m \u001b[0mindex\u001b[0m\u001b[1;33m,\u001b[0m \u001b[0mcolumns\u001b[0m\u001b[1;33m,\u001b[0m \u001b[0mdtype\u001b[0m\u001b[1;33m=\u001b[0m\u001b[0mdtype\u001b[0m\u001b[1;33m,\u001b[0m \u001b[0mcopy\u001b[0m\u001b[1;33m=\u001b[0m\u001b[0mcopy\u001b[0m\u001b[1;33m,\u001b[0m \u001b[0mtyp\u001b[0m\u001b[1;33m=\u001b[0m\u001b[0mmanager\u001b[0m\u001b[1;33m)\u001b[0m\u001b[1;33m\u001b[0m\u001b[1;33m\u001b[0m\u001b[0m\n\u001b[0m\u001b[0;32m    615\u001b[0m         \u001b[1;32melif\u001b[0m \u001b[0misinstance\u001b[0m\u001b[1;33m(\u001b[0m\u001b[0mdata\u001b[0m\u001b[1;33m,\u001b[0m \u001b[0mma\u001b[0m\u001b[1;33m.\u001b[0m\u001b[0mMaskedArray\u001b[0m\u001b[1;33m)\u001b[0m\u001b[1;33m:\u001b[0m\u001b[1;33m\u001b[0m\u001b[1;33m\u001b[0m\u001b[0m\n\u001b[0;32m    616\u001b[0m             \u001b[1;32mimport\u001b[0m \u001b[0mnumpy\u001b[0m\u001b[1;33m.\u001b[0m\u001b[0mma\u001b[0m\u001b[1;33m.\u001b[0m\u001b[0mmrecords\u001b[0m \u001b[1;32mas\u001b[0m \u001b[0mmrecords\u001b[0m\u001b[1;33m\u001b[0m\u001b[1;33m\u001b[0m\u001b[0m\n",
      "\u001b[1;32m~\\AppData\\Roaming\\Python\\Python38\\site-packages\\pandas\\core\\internals\\construction.py\u001b[0m in \u001b[0;36mdict_to_mgr\u001b[1;34m(data, index, columns, dtype, typ, copy)\u001b[0m\n\u001b[0;32m    420\u001b[0m             \u001b[1;31m# GH10856\u001b[0m\u001b[1;33m\u001b[0m\u001b[1;33m\u001b[0m\u001b[1;33m\u001b[0m\u001b[0m\n\u001b[0;32m    421\u001b[0m             \u001b[1;31m# raise ValueError if only scalars in dict\u001b[0m\u001b[1;33m\u001b[0m\u001b[1;33m\u001b[0m\u001b[1;33m\u001b[0m\u001b[0m\n\u001b[1;32m--> 422\u001b[1;33m             \u001b[0mindex\u001b[0m \u001b[1;33m=\u001b[0m \u001b[0m_extract_index\u001b[0m\u001b[1;33m(\u001b[0m\u001b[0marrays\u001b[0m\u001b[1;33m[\u001b[0m\u001b[1;33m~\u001b[0m\u001b[0mmissing\u001b[0m\u001b[1;33m]\u001b[0m\u001b[1;33m)\u001b[0m\u001b[1;33m\u001b[0m\u001b[1;33m\u001b[0m\u001b[0m\n\u001b[0m\u001b[0;32m    423\u001b[0m         \u001b[1;32melse\u001b[0m\u001b[1;33m:\u001b[0m\u001b[1;33m\u001b[0m\u001b[1;33m\u001b[0m\u001b[0m\n\u001b[0;32m    424\u001b[0m             \u001b[0mindex\u001b[0m \u001b[1;33m=\u001b[0m \u001b[0mensure_index\u001b[0m\u001b[1;33m(\u001b[0m\u001b[0mindex\u001b[0m\u001b[1;33m)\u001b[0m\u001b[1;33m\u001b[0m\u001b[1;33m\u001b[0m\u001b[0m\n",
      "\u001b[1;32m~\\AppData\\Roaming\\Python\\Python38\\site-packages\\pandas\\core\\internals\\construction.py\u001b[0m in \u001b[0;36m_extract_index\u001b[1;34m(data)\u001b[0m\n\u001b[0;32m    633\u001b[0m             \u001b[0mlengths\u001b[0m \u001b[1;33m=\u001b[0m \u001b[0mlist\u001b[0m\u001b[1;33m(\u001b[0m\u001b[0mset\u001b[0m\u001b[1;33m(\u001b[0m\u001b[0mraw_lengths\u001b[0m\u001b[1;33m)\u001b[0m\u001b[1;33m)\u001b[0m\u001b[1;33m\u001b[0m\u001b[1;33m\u001b[0m\u001b[0m\n\u001b[0;32m    634\u001b[0m             \u001b[1;32mif\u001b[0m \u001b[0mlen\u001b[0m\u001b[1;33m(\u001b[0m\u001b[0mlengths\u001b[0m\u001b[1;33m)\u001b[0m \u001b[1;33m>\u001b[0m \u001b[1;36m1\u001b[0m\u001b[1;33m:\u001b[0m\u001b[1;33m\u001b[0m\u001b[1;33m\u001b[0m\u001b[0m\n\u001b[1;32m--> 635\u001b[1;33m                 \u001b[1;32mraise\u001b[0m \u001b[0mValueError\u001b[0m\u001b[1;33m(\u001b[0m\u001b[1;34m\"All arrays must be of the same length\"\u001b[0m\u001b[1;33m)\u001b[0m\u001b[1;33m\u001b[0m\u001b[1;33m\u001b[0m\u001b[0m\n\u001b[0m\u001b[0;32m    636\u001b[0m \u001b[1;33m\u001b[0m\u001b[0m\n\u001b[0;32m    637\u001b[0m             \u001b[1;32mif\u001b[0m \u001b[0mhave_dicts\u001b[0m\u001b[1;33m:\u001b[0m\u001b[1;33m\u001b[0m\u001b[1;33m\u001b[0m\u001b[0m\n",
      "\u001b[1;31mValueError\u001b[0m: All arrays must be of the same length"
     ]
    }
   ],
   "source": [
    "from pandas import DataFrame\n",
    "C = {'epoch no':l,\n",
    "    'acc train':model_history.history['accuracy'],\n",
    "    'acc val':model_history.history['val_accuracy'],\n",
    "    'loss train':model_history.history['loss'],\n",
    "    'loss val':model_history.history['val_loss']}\n",
    "df = DataFrame(C, columns= ['epoch no','acc train','acc val','loss train','loss val'])\n",
    "export_csv = df.to_csv (r'E:\\result1.csv', index = None, header=True) \n",
    "print (df)"
   ]
  },
  {
   "cell_type": "code",
   "execution_count": null,
   "metadata": {
    "colab": {
     "base_uri": "https://localhost:8080/"
    },
    "id": "1m-yMg3raeRg",
    "outputId": "9d60d877-d127-4787-8743-9d9f5c522fbf"
   },
   "outputs": [],
   "source": [
    "from pandas import DataFrame\n",
    "C = {\n",
    "     'train acc':[str(model_history.history['accuracy'][99])],\n",
    "     'test acc':[str(model_history.history['val_accuracy'][99])],\n",
    "     'precision(macro)':[str(p)],\n",
    "     'recall(macro)':[str(r)],\n",
    "     'f1(macro)':[str(f)],\n",
    "     'specificity(macro)':[str(s)],\n",
    "     'AUC(macro)':[str(auc)],\n",
    "     'train time per epoch':['1 sec'],\n",
    "     'test time per epoch':['1 sec'],}\n",
    "df = DataFrame(C, columns= ['train acc','test acc','precision(macro)','recall(macro)','f1(macro)','specificity(macro)','AUC(macro)','train time per epoch','test time per epoch'])\n",
    "export_csv = df.to_csv (r'E:\\result2.csv', index = None, header=True) \n",
    "print (df)"
   ]
  },
  {
   "cell_type": "code",
   "execution_count": 40,
   "metadata": {
    "colab": {
     "base_uri": "https://localhost:8080/"
    },
    "id": "la6_CGhBamQj",
    "outputId": "0156a717-d3e7-44b8-a3ad-743d3b3cc748"
   },
   "outputs": [
    {
     "name": "stdout",
     "output_type": "stream",
     "text": [
      "        TPR       FPR\n",
      "0  0.500000  0.009804\n",
      "1  0.750000  0.037126\n",
      "2  0.562500  0.036887\n",
      "3  0.647059  0.120139\n",
      "4  0.846154  0.111111\n",
      "5  0.416667  0.012821\n",
      "6  0.700000  0.101716\n"
     ]
    }
   ],
   "source": [
    "from pandas import DataFrame\n",
    "C = {\n",
    "     'TPR': TPR,\n",
    "     'FPR': FPR}\n",
    "df = DataFrame(C, columns= ['TPR','FPR'])\n",
    "export_csv = df.to_csv (r'E:\\result3.csv', index = None, header=True) \n",
    "print (df)"
   ]
  },
  {
   "cell_type": "code",
   "execution_count": 41,
   "metadata": {},
   "outputs": [
    {
     "data": {
      "text/plain": [
       "(array([0.5, 1.5, 2.5, 3.5, 4.5, 5.5, 6.5]),\n",
       " [Text(0, 0.5, 'anger'),\n",
       "  Text(0, 1.5, 'disgust'),\n",
       "  Text(0, 2.5, 'fear'),\n",
       "  Text(0, 3.5, 'happy'),\n",
       "  Text(0, 4.5, 'neutral'),\n",
       "  Text(0, 5.5, 'sad'),\n",
       "  Text(0, 6.5, 'surprise')])"
      ]
     },
     "execution_count": 41,
     "metadata": {},
     "output_type": "execute_result"
    },
    {
     "data": {
      "image/png": "[encoded data removed]",
      "text/plain": [
       "<Figure size 432x288 with 2 Axes>"
      ]
     },
     "metadata": {
      "needs_background": "light"
     },
     "output_type": "display_data"
    }
   ],
   "source": [
    "import seaborn as sns\n",
    "import matplotlib.pyplot as plt     \n",
    "\n",
    "ax= plt.subplot()\n",
    "sns.heatmap(np.round(cm*100), annot=True,linecolor='white', cmap='Reds', linewidth=2, fmt='', ax=ax);  #annot=True to annotate cells, ftm='g' to disable scientific notation\n",
    "\n",
    "# labels, title and ticks\n",
    "ax.set_xlabel('Predicted labels');ax.set_ylabel('True labels'); \n",
    "ax.set_title('Confusion Matrix'); \n",
    "ax.xaxis.set_ticklabels(y); ax.yaxis.set_ticklabels(y);\n",
    "plt.xticks(rotation=90)\n",
    "plt.yticks(rotation=0)\n"
   ]
  },
  {
   "cell_type": "code",
   "execution_count": null,
   "metadata": {},
   "outputs": [],
   "source": []
  }
 ],
 "metadata": {
  "colab": {
   "name": "cnn_fs1.ipynb",
   "provenance": []
  },
  "kernelspec": {
   "display_name": "Python 3",
   "language": "python",
   "name": "python3"
  },
  "language_info": {
   "codemirror_mode": {
    "name": "ipython",
    "version": 3
   },
   "file_extension": ".py",
   "mimetype": "text/x-python",
   "name": "python",
   "nbconvert_exporter": "python",
   "pygments_lexer": "ipython3",
   "version": "3.8.5"
  }
 },
 "nbformat": 4,
 "nbformat_minor": 1
}
